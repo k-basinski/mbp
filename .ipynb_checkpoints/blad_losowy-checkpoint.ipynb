{
 "cells": [
  {
   "cell_type": "code",
   "execution_count": 1,
   "metadata": {},
   "outputs": [],
   "source": [
    "import numpy as np\n",
    "import seaborn as sns\n",
    "import pandas as pd\n",
    "import matplotlib.pyplot as plt"
   ]
  },
  {
   "cell_type": "code",
   "execution_count": 2,
   "metadata": {},
   "outputs": [],
   "source": [
    "# Ustaw wyjściowe wartości\n",
    "\n",
    "wartosc_prawdziwa = 5\n",
    "zakres_bledu = 2\n"
   ]
  },
  {
   "cell_type": "code",
   "execution_count": 3,
   "metadata": {},
   "outputs": [
    {
     "name": "stdout",
     "output_type": "stream",
     "text": [
      "3.66, 4.89, 5.37, 5.2, 5.48, 6.62, 5.65, 4.24, 6.07, 4.99, Średnia: M = 5.22\n"
     ]
    }
   ],
   "source": [
    "# zróbmy dziesięć pomiarów\n",
    "\n",
    "pomiary = []\n",
    "for i in range(10):\n",
    "    blad = np.random.uniform(-zakres_bledu, zakres_bledu)\n",
    "    pomiary.append(wartosc_prawdziwa + blad)\n",
    "\n",
    "def print_pomiary(pomiary):\n",
    "    for pomiar in pomiary:\n",
    "        print(round(pomiar, 2), end=', ')\n",
    "\n",
    "    print(f'Średnia: M = {round(np.mean(pomiary), 2)}')\n",
    "# pokaż wyniki pomiarów zaokrąglając do 2\n",
    "print_pomiary(pomiary)"
   ]
  },
  {
   "cell_type": "code",
   "execution_count": 4,
   "metadata": {},
   "outputs": [
    {
     "name": "stdout",
     "output_type": "stream",
     "text": [
      "3.66, 4.89, 5.37, 5.2, 5.48, 6.62, 5.65, 4.24, 6.07, 4.99, 4.67, 5.41, 6.88, 4.37, 5.41, 3.51, 3.91, 5.81, 3.94, 4.27, Średnia: M = 5.02\n"
     ]
    }
   ],
   "source": [
    "# dodajmy kolejne 10\n",
    "\n",
    "for i in range(10):\n",
    "    blad = np.random.uniform(-zakres_bledu, zakres_bledu)\n",
    "    pomiary.append(wartosc_prawdziwa + blad)\n",
    "\n",
    "# pokaż wyniki pomiarów zaokrąglając do 2\n",
    "print_pomiary(pomiary)\n"
   ]
  },
  {
   "cell_type": "code",
   "execution_count": 5,
   "metadata": {},
   "outputs": [
    {
     "name": "stdout",
     "output_type": "stream",
     "text": [
      "3.66, 4.89, 5.37, 5.2, 5.48, 6.62, 5.65, 4.24, 6.07, 4.99, 4.67, 5.41, 6.88, 4.37, 5.41, 3.51, 3.91, 5.81, 3.94, 4.27, 5.23, 3.73, 5.9, 3.97, 6.32, 3.14, 6.98, 6.74, 5.31, 3.96, Średnia: M = 5.05\n"
     ]
    }
   ],
   "source": [
    "# i kolejne 10...\n",
    "\n",
    "for i in range(10):\n",
    "    blad = np.random.uniform(-zakres_bledu, zakres_bledu)\n",
    "    pomiary.append(wartosc_prawdziwa + blad)\n",
    "\n",
    "# pokaż wyniki pomiarów zaokrąglając do 2\n",
    "print_pomiary(pomiary)\n"
   ]
  },
  {
   "cell_type": "code",
   "execution_count": 6,
   "metadata": {},
   "outputs": [],
   "source": [
    "# jeszcze raz, porządnie\n",
    "\n",
    "# wylosuj milion błędów\n",
    "d = {\n",
    "    'prawda': np.repeat(wartosc_prawdziwa, 1e6),\n",
    "    'bledy': np.random.uniform(-2, 2, int(1e6)),\n",
    "    'bledy_gauss': np.random.normal(0, 2, int(1e6))\n",
    "}\n",
    "df = pd.DataFrame(d)\n",
    "\n",
    "df['pomiary'] = df.prawda + df.bledy\n",
    "df['pomiary_gauss'] = df.prawda + df.bledy_gauss\n",
    "df['N'] = df.index + 1\n",
    "df['srednie'] = df.pomiary.cumsum() / df.N\n",
    "df['srednie_gauss'] = df.pomiary_gauss.cumsum() / df.N\n"
   ]
  },
  {
   "cell_type": "code",
   "execution_count": 8,
   "metadata": {},
   "outputs": [
    {
     "data": {
      "image/png": "[encoded data removed]",
      "text/plain": [
       "<Figure size 432x288 with 1 Axes>"
      ]
     },
     "metadata": {
      "needs_background": "light"
     },
     "output_type": "display_data"
    }
   ],
   "source": [
    "# plot this\n",
    "how_many = 100\n",
    "sns.lineplot(x='N', y='srednie', data=df[:how_many], color='blue')\n",
    "plt.hlines(wartosc_prawdziwa, 0, how_many, color='red')\n",
    "plt.show()"
   ]
  },
  {
   "cell_type": "code",
   "execution_count": 9,
   "metadata": {},
   "outputs": [
    {
     "data": {
      "image/png": "[encoded data removed]",
      "text/plain": [
       "<Figure size 432x288 with 1 Axes>"
      ]
     },
     "metadata": {
      "needs_background": "light"
     },
     "output_type": "display_data"
    }
   ],
   "source": [
    "# plot this\n",
    "how_many = 1000\n",
    "sns.lineplot(x='N', y='srednie', data=df[:how_many], color='blue')\n",
    "plt.hlines(wartosc_prawdziwa, 0, how_many, color='red')\n",
    "plt.xscale('log')\n",
    "plt.show()"
   ]
  },
  {
   "cell_type": "code",
   "execution_count": null,
   "metadata": {},
   "outputs": [],
   "source": [
    "# plot this\n",
    "how_many = 100000\n",
    "sns.lineplot(x='N', y='srednie', data=df[:how_many], color='blue')\n",
    "plt.hlines(wartosc_prawdziwa, 0, how_many, color='red')\n",
    "plt.xscale('log')\n",
    "plt.show()"
   ]
  },
  {
   "cell_type": "code",
   "execution_count": null,
   "metadata": {},
   "outputs": [],
   "source": []
  }
 ],
 "metadata": {
  "kernelspec": {
   "display_name": "Python 3",
   "language": "python",
   "name": "python3"
  },
  "language_info": {
   "codemirror_mode": {
    "name": "ipython",
    "version": 3
   },
   "file_extension": ".py",
   "mimetype": "text/x-python",
   "name": "python",
   "nbconvert_exporter": "python",
   "pygments_lexer": "ipython3",
   "version": "3.8.6"
  }
 },
 "nbformat": 4,
 "nbformat_minor": 2
}
