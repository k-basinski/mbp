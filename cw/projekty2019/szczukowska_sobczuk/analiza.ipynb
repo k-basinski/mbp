{
 "cells": [
  {
   "cell_type": "code",
   "execution_count": 1,
   "metadata": {},
   "outputs": [],
   "source": [
    "import numpy as np\n",
    "import pandas as pd\n",
    "import seaborn as sns\n",
    "import matplotlib.pyplot as plt\n",
    "\n",
    "import statsmodels.api as sm\n",
    "from statsmodels.formula.api import ols"
   ]
  },
  {
   "cell_type": "code",
   "execution_count": 2,
   "metadata": {},
   "outputs": [],
   "source": [
    "d = pd.read_excel('dane.xlsx')"
   ]
  },
  {
   "cell_type": "code",
   "execution_count": 3,
   "metadata": {},
   "outputs": [
    {
     "data": {
      "text/html": [
       "<div>\n",
       "<style scoped>\n",
       "    .dataframe tbody tr th:only-of-type {\n",
       "        vertical-align: middle;\n",
       "    }\n",
       "\n",
       "    .dataframe tbody tr th {\n",
       "        vertical-align: top;\n",
       "    }\n",
       "\n",
       "    .dataframe thead th {\n",
       "        text-align: right;\n",
       "    }\n",
       "</style>\n",
       "<table border=\"1\" class=\"dataframe\">\n",
       "  <thead>\n",
       "    <tr style=\"text-align: right;\">\n",
       "      <th></th>\n",
       "      <th>id</th>\n",
       "      <th>id_osoby</th>\n",
       "      <th>kategoria</th>\n",
       "      <th>rt</th>\n",
       "      <th>error</th>\n",
       "    </tr>\n",
       "  </thead>\n",
       "  <tbody>\n",
       "    <tr>\n",
       "      <th>0</th>\n",
       "      <td>1</td>\n",
       "      <td>1</td>\n",
       "      <td>s_sp</td>\n",
       "      <td>720</td>\n",
       "      <td>d</td>\n",
       "    </tr>\n",
       "    <tr>\n",
       "      <th>1</th>\n",
       "      <td>2</td>\n",
       "      <td>1</td>\n",
       "      <td>s_sp</td>\n",
       "      <td>1217</td>\n",
       "      <td>d</td>\n",
       "    </tr>\n",
       "    <tr>\n",
       "      <th>2</th>\n",
       "      <td>3</td>\n",
       "      <td>1</td>\n",
       "      <td>s_sp</td>\n",
       "      <td>594</td>\n",
       "      <td>d</td>\n",
       "    </tr>\n",
       "    <tr>\n",
       "      <th>3</th>\n",
       "      <td>4</td>\n",
       "      <td>1</td>\n",
       "      <td>s_sp</td>\n",
       "      <td>617</td>\n",
       "      <td>d</td>\n",
       "    </tr>\n",
       "    <tr>\n",
       "      <th>4</th>\n",
       "      <td>5</td>\n",
       "      <td>1</td>\n",
       "      <td>s_sp</td>\n",
       "      <td>575</td>\n",
       "      <td>d</td>\n",
       "    </tr>\n",
       "  </tbody>\n",
       "</table>\n",
       "</div>"
      ],
      "text/plain": [
       "   id  id_osoby kategoria    rt error\n",
       "0   1         1      s_sp   720     d\n",
       "1   2         1      s_sp  1217     d\n",
       "2   3         1      s_sp   594     d\n",
       "3   4         1      s_sp   617     d\n",
       "4   5         1      s_sp   575     d"
      ]
     },
     "execution_count": 3,
     "metadata": {},
     "output_type": "execute_result"
    }
   ],
   "source": [
    "d.head()"
   ]
  },
  {
   "cell_type": "code",
   "execution_count": 4,
   "metadata": {},
   "outputs": [
    {
     "data": {
      "text/plain": [
       "s_snp    225\n",
       "s_n      225\n",
       "n_s      225\n",
       "s_sp     225\n",
       "n_n      225\n",
       "Name: kategoria, dtype: int64"
      ]
     },
     "execution_count": 4,
     "metadata": {},
     "output_type": "execute_result"
    }
   ],
   "source": [
    "d.kategoria.value_counts()"
   ]
  },
  {
   "cell_type": "markdown",
   "metadata": {},
   "source": [
    "# Analiza statystyczna\n",
    "\n",
    "To jest do wklejenia na koniec rozdziału metody, uzupełnijcie tylko nazwy zmiennych zależnych ZZ i niezależnych ZN.\n",
    "    \n",
    "> W celu zbadania wpływu ZN na ZZ wykonano jednoczynnikową analizę wariancji. Wszystkie obliczenia wykonano w języku Python przy użyciu bibliotek _Pandas, Numpy i Statsmodels_. Wykres przygotowano przy użyciu biblioteki _Seaborn_."
   ]
  },
  {
   "cell_type": "markdown",
   "metadata": {},
   "source": [
    "# Średnie i odchylenia"
   ]
  },
  {
   "cell_type": "code",
   "execution_count": 5,
   "metadata": {},
   "outputs": [],
   "source": [
    "gr = d.groupby(['kategoria'])"
   ]
  },
  {
   "cell_type": "markdown",
   "metadata": {},
   "source": [
    "#### Średnie w grupach:"
   ]
  },
  {
   "cell_type": "code",
   "execution_count": 7,
   "metadata": {},
   "outputs": [
    {
     "data": {
      "text/plain": [
       "kategoria\n",
       "n_n      764.49\n",
       "n_s      801.39\n",
       "s_n      911.00\n",
       "s_snp    849.51\n",
       "s_sp     774.08\n",
       "Name: rt, dtype: float64"
      ]
     },
     "execution_count": 7,
     "metadata": {},
     "output_type": "execute_result"
    }
   ],
   "source": [
    "round(gr.rt.mean(), 2)"
   ]
  },
  {
   "cell_type": "markdown",
   "metadata": {},
   "source": [
    "#### Odchylenia standardowe:"
   ]
  },
  {
   "cell_type": "code",
   "execution_count": 8,
   "metadata": {},
   "outputs": [
    {
     "data": {
      "text/plain": [
       "kategoria\n",
       "n_n      266.99\n",
       "n_s      300.10\n",
       "s_n      295.97\n",
       "s_snp    275.25\n",
       "s_sp     256.47\n",
       "Name: rt, dtype: float64"
      ]
     },
     "execution_count": 8,
     "metadata": {},
     "output_type": "execute_result"
    }
   ],
   "source": [
    "round(gr.rt.std(), 2)"
   ]
  },
  {
   "cell_type": "markdown",
   "metadata": {},
   "source": [
    "# Violin plot\n",
    "\n",
    "Poniżej wykres gotowy do wklejenia do artykułu. Plik png w wysokiej rozdzielczości w załączniku.\n",
    "\n",
    "Macie na tyle dużo danych, że można zrobić takie cudo jak violin plot. Poczytajcie sobie <https://seaborn.pydata.org/generated/seaborn.violinplot.html> o tym, co to takiego."
   ]
  },
  {
   "cell_type": "code",
   "execution_count": 13,
   "metadata": {},
   "outputs": [
    {
     "data": {
      "image/png": "[encoded data removed]",
      "text/plain": [
       "<Figure size 432x288 with 1 Axes>"
      ]
     },
     "metadata": {
      "needs_background": "light"
     },
     "output_type": "display_data"
    }
   ],
   "source": [
    "sns.violinplot(x=d.kategoria, y=d.rt, palette='viridis')\n",
    "plt.savefig('vplot.png', dpi=150)"
   ]
  },
  {
   "cell_type": "markdown",
   "metadata": {},
   "source": [
    "# Analiza wariancji (ANOVA)\n",
    "\n",
    "Jednoczynnikowa analiza wariancji odpowiada nam na pytanie, czy istnieją istotne statystycznie różnice pomiędzy średnimi. W tym przypadku istnieją, na poziomie istotności p < 0,001 (czyli możemy stwierdzić, że stwierdzone w waszym badaniu różnice wystepują w populacji z prawdopodobieństwem większym niż 99,9%). Opisując wyniki należy po podaniu wartości śrendnich i odchyleń standardowych napisać coś takiego (oczywiście uzupełnijcie ZZ i ZN).\n",
    "\n",
    "> Jednoczynnikowa analiza wariancji z powtarzanym pomiarem wykazała istotny wpływ ZN na ZZ, F(4,56) = 9,850, p < 0,001."
   ]
  },
  {
   "cell_type": "code",
   "execution_count": 16,
   "metadata": {},
   "outputs": [
    {
     "name": "stdout",
     "output_type": "stream",
     "text": [
      "                 Anova\n",
      "=======================================\n",
      "          Num DF  Den DF F Value Pr > F\n",
      "---------------------------------------\n",
      "kategoria 4.0000 56.0000  9.8499 0.0000\n",
      "=======================================\n",
      "\n"
     ]
    }
   ],
   "source": [
    "from statsmodels.stats.anova import AnovaRM\n",
    "aovrm = AnovaRM(d, 'rt', 'id_osoby', within=['kategoria'], aggregate_func='mean')\n",
    "res = aovrm.fit()\n",
    "\n",
    "print(res)"
   ]
  },
  {
   "cell_type": "markdown",
   "metadata": {},
   "source": [
    "# Wielokrotne porównania (testy _post-hoc_ Tukey HSD)\n",
    "\n",
    "Skoro już wiemy, że jest istotna różnica pomiędzy średnimi, musimy odpowiedzieć na pytanie **które** dokładnie pary średnich są różne od siebie. Do tego służy poniższa tabela. W pierszych dwóch kolumnach mamy informację o tym, które grupy ze sobą są porównywane. `meandiff` oznacza różnice pomiędzy średnimi. W ostatniej kolumnie (`reject`) jest informacja o istotności róznicy - jeśli `True` to różnica jest istotna statystycznie, jeśli `False` to nie jest. Opis tej procedury w wynikach powinien wyglądać jakoś tak:\n",
    "\n",
    "> Testy _post-hoc_ wykazały istotne różnice (p < 0,05) pomiędzy warunkiem XXX a YYY, XXX a ZZZ oraz ZZZ a ŹŹŹ. Nie stwierdzono istotnych różnic pomiędzy warunkiem YYY a ZZZ."
   ]
  },
  {
   "cell_type": "code",
   "execution_count": 17,
   "metadata": {},
   "outputs": [],
   "source": [
    "from statsmodels.stats.multicomp import pairwise_tukeyhsd\n",
    "from statsmodels.stats.multicomp import MultiComparison\n",
    "\n",
    "mc = MultiComparison(d['rt'], d['kategoria'])\n",
    "mc_results = mc.tukeyhsd()"
   ]
  },
  {
   "cell_type": "code",
   "execution_count": 18,
   "metadata": {},
   "outputs": [
    {
     "name": "stdout",
     "output_type": "stream",
     "text": [
      "Multiple Comparison of Means - Tukey HSD,FWER=0.05\n",
      "================================================\n",
      "group1 group2 meandiff   lower    upper   reject\n",
      "------------------------------------------------\n",
      " n_n    n_s   36.8978   -35.0895 108.885  False \n",
      " n_n    s_n   146.5067  74.5194  218.4939  True \n",
      " n_n   s_snp  85.0178   13.0305  157.005   True \n",
      " n_n    s_sp   9.5867   -62.4006 81.5739  False \n",
      " n_s    s_n   109.6089  37.6217  181.5961  True \n",
      " n_s   s_snp   48.12    -23.8672 120.1072 False \n",
      " n_s    s_sp  -27.3111  -99.2983 44.6761  False \n",
      " s_n   s_snp  -61.4889 -133.4761 10.4983  False \n",
      " s_n    s_sp  -136.92  -208.9072 -64.9328  True \n",
      "s_snp   s_sp  -75.4311 -147.4183 -3.4439   True \n",
      "------------------------------------------------\n"
     ]
    }
   ],
   "source": [
    "print(mc_results)"
   ]
  },
  {
   "cell_type": "code",
   "execution_count": null,
   "metadata": {},
   "outputs": [],
   "source": []
  }
 ],
 "metadata": {
  "kernelspec": {
   "display_name": "Python 3",
   "language": "python",
   "name": "python3"
  },
  "language_info": {
   "codemirror_mode": {
    "name": "ipython",
    "version": 3
   },
   "file_extension": ".py",
   "mimetype": "text/x-python",
   "name": "python",
   "nbconvert_exporter": "python",
   "pygments_lexer": "ipython3",
   "version": "3.7.3"
  }
 },
 "nbformat": 4,
 "nbformat_minor": 2
}
