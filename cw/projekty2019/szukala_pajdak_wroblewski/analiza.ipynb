{
 "cells": [
  {
   "cell_type": "code",
   "execution_count": 50,
   "metadata": {},
   "outputs": [],
   "source": [
    "import numpy as np\n",
    "import pandas as pd\n",
    "import seaborn as sns\n",
    "import matplotlib.pyplot as plt\n",
    "\n",
    "import statsmodels.formula.api as smf\n",
    "from statsmodels.stats.anova import anova_lm"
   ]
  },
  {
   "cell_type": "code",
   "execution_count": 51,
   "metadata": {},
   "outputs": [],
   "source": [
    "# import danych\n",
    "d1 = pd.read_csv(\"tab1.csv\")\n",
    "d2 = pd.read_csv(\"tab2.csv\", decimal=',')\n",
    "# /wyczyścimy\n",
    "d2.loc[:, 'warunek'] = d2.warunek.replace({'nie ': 'nie'})"
   ]
  },
  {
   "cell_type": "code",
   "execution_count": 52,
   "metadata": {},
   "outputs": [
    {
     "data": {
      "text/html": [
       "<div>\n",
       "<style scoped>\n",
       "    .dataframe tbody tr th:only-of-type {\n",
       "        vertical-align: middle;\n",
       "    }\n",
       "\n",
       "    .dataframe tbody tr th {\n",
       "        vertical-align: top;\n",
       "    }\n",
       "\n",
       "    .dataframe thead th {\n",
       "        text-align: right;\n",
       "    }\n",
       "</style>\n",
       "<table border=\"1\" class=\"dataframe\">\n",
       "  <thead>\n",
       "    <tr style=\"text-align: right;\">\n",
       "      <th></th>\n",
       "      <th>id_osoby</th>\n",
       "      <th>id</th>\n",
       "      <th>kategoria</th>\n",
       "      <th>wynik</th>\n",
       "    </tr>\n",
       "  </thead>\n",
       "  <tbody>\n",
       "    <tr>\n",
       "      <th>0</th>\n",
       "      <td>1</td>\n",
       "      <td>1</td>\n",
       "      <td>strukturalna</td>\n",
       "      <td>0</td>\n",
       "    </tr>\n",
       "    <tr>\n",
       "      <th>1</th>\n",
       "      <td>1</td>\n",
       "      <td>2</td>\n",
       "      <td>fonemiczna</td>\n",
       "      <td>0</td>\n",
       "    </tr>\n",
       "    <tr>\n",
       "      <th>2</th>\n",
       "      <td>1</td>\n",
       "      <td>3</td>\n",
       "      <td>semantyczna</td>\n",
       "      <td>2</td>\n",
       "    </tr>\n",
       "    <tr>\n",
       "      <th>3</th>\n",
       "      <td>1</td>\n",
       "      <td>4</td>\n",
       "      <td>ja</td>\n",
       "      <td>5</td>\n",
       "    </tr>\n",
       "    <tr>\n",
       "      <th>4</th>\n",
       "      <td>1</td>\n",
       "      <td>5</td>\n",
       "      <td>fonemiczna_pyt</td>\n",
       "      <td>0</td>\n",
       "    </tr>\n",
       "  </tbody>\n",
       "</table>\n",
       "</div>"
      ],
      "text/plain": [
       "   id_osoby  id       kategoria  wynik\n",
       "0         1   1    strukturalna      0\n",
       "1         1   2      fonemiczna      0\n",
       "2         1   3     semantyczna      2\n",
       "3         1   4              ja      5\n",
       "4         1   5  fonemiczna_pyt      0"
      ]
     },
     "execution_count": 52,
     "metadata": {},
     "output_type": "execute_result"
    }
   ],
   "source": [
    "d1.head()"
   ]
  },
  {
   "cell_type": "code",
   "execution_count": 53,
   "metadata": {},
   "outputs": [
    {
     "data": {
      "text/plain": [
       "semantyczna_pyt    32\n",
       "strukturalna       32\n",
       "fonemiczna         32\n",
       "fonemiczna_pyt     32\n",
       "ja                 32\n",
       "semantyczna        32\n",
       "Name: kategoria, dtype: int64"
      ]
     },
     "execution_count": 53,
     "metadata": {},
     "output_type": "execute_result"
    }
   ],
   "source": [
    "d.kategoria.value_counts()"
   ]
  },
  {
   "cell_type": "markdown",
   "metadata": {},
   "source": [
    "# Najpierw pierwsza tabela - wpływ kategorii na pamięć"
   ]
  },
  {
   "cell_type": "markdown",
   "metadata": {},
   "source": [
    "# Średnie i odchylenia"
   ]
  },
  {
   "cell_type": "code",
   "execution_count": 54,
   "metadata": {},
   "outputs": [],
   "source": [
    "gr = d1.groupby(['kategoria'])"
   ]
  },
  {
   "cell_type": "markdown",
   "metadata": {},
   "source": [
    "#### Średnie w grupach:"
   ]
  },
  {
   "cell_type": "code",
   "execution_count": 55,
   "metadata": {},
   "outputs": [
    {
     "data": {
      "text/plain": [
       "kategoria\n",
       "fonemiczna         0.41\n",
       "fonemiczna_pyt     1.56\n",
       "ja                 4.94\n",
       "semantyczna        1.03\n",
       "semantyczna_pyt    1.53\n",
       "strukturalna       1.47\n",
       "Name: wynik, dtype: float64"
      ]
     },
     "execution_count": 55,
     "metadata": {},
     "output_type": "execute_result"
    }
   ],
   "source": [
    "round(gr.wynik.mean(), 2)"
   ]
  },
  {
   "cell_type": "markdown",
   "metadata": {},
   "source": [
    "#### Odchylenia standardowe:"
   ]
  },
  {
   "cell_type": "code",
   "execution_count": 56,
   "metadata": {},
   "outputs": [
    {
     "data": {
      "text/plain": [
       "kategoria\n",
       "fonemiczna         0.71\n",
       "fonemiczna_pyt     1.08\n",
       "ja                 1.93\n",
       "semantyczna        1.09\n",
       "semantyczna_pyt    1.22\n",
       "strukturalna       1.39\n",
       "Name: wynik, dtype: float64"
      ]
     },
     "execution_count": 56,
     "metadata": {},
     "output_type": "execute_result"
    }
   ],
   "source": [
    "round(gr.wynik.std(), 2)"
   ]
  },
  {
   "cell_type": "markdown",
   "metadata": {},
   "source": [
    "# Boxplot\n",
    "\n",
    "Poniżej wykres gotowy do wklejenia do artykułu. Plik png w wysokiej rozdzielczości w załączniku."
   ]
  },
  {
   "cell_type": "code",
   "execution_count": 57,
   "metadata": {},
   "outputs": [
    {
     "data": {
      "image/png": "[encoded data removed]",
      "text/plain": [
       "<Figure size 432x288 with 1 Axes>"
      ]
     },
     "metadata": {
      "needs_background": "light"
     },
     "output_type": "display_data"
    }
   ],
   "source": [
    "sns.boxplot(x=d.wynik, y=d.kategoria)\n",
    "plt.savefig('boxplot.png', dpi=150)"
   ]
  },
  {
   "cell_type": "markdown",
   "metadata": {},
   "source": [
    "Piękny efekt odeniesienia do ja BTW:)"
   ]
  },
  {
   "cell_type": "markdown",
   "metadata": {},
   "source": [
    "# Analiza wariancji (ANOVA)\n",
    "\n",
    "Jednoczynnikowa analiza wariancji odpowiada nam na pytanie, czy istnieją istotne statystycznie różnice pomiędzy średnimi. W tym przypadku istnieją, na poziomie istotności p < 0,001 (czyli możemy stwierdzić, że stwierdzone w waszym badaniu różnice wystepują w populacji z prawdopodobieństwem większym niż 99,9%). Opisując wyniki należy po podaniu wartości śrendnich i odchyleń standardowych napisać coś takiego (oczywiście uzupełnijcie ZZ i ZN).\n",
    "\n",
    "> Jednoczynnikowa analiza wariancji z powtarzanym pomiarem wykazała istotny wpływ ZN na ZZ, F(5,155) = 48,049, p < 0,001."
   ]
  },
  {
   "cell_type": "code",
   "execution_count": 58,
   "metadata": {},
   "outputs": [
    {
     "name": "stdout",
     "output_type": "stream",
     "text": [
      "                 Anova\n",
      "========================================\n",
      "          Num DF  Den DF  F Value Pr > F\n",
      "----------------------------------------\n",
      "kategoria 5.0000 155.0000 48.0489 0.0000\n",
      "========================================\n",
      "\n"
     ]
    }
   ],
   "source": [
    "from statsmodels.stats.anova import AnovaRM\n",
    "aovrm = AnovaRM(d, 'wynik', 'id_osoby', within=['kategoria'], aggregate_func='mean')\n",
    "res = aovrm.fit()\n",
    "\n",
    "print(res)"
   ]
  },
  {
   "cell_type": "markdown",
   "metadata": {},
   "source": [
    "# Wielokrotne porównania (testy _post-hoc_ Tukey HSD)\n",
    "\n",
    "Skoro już wiemy, że jest istotna różnica pomiędzy średnimi, musimy odpowiedzieć na pytanie **które** dokładnie pary średnich są różne od siebie. Do tego służy poniższa tabela. W pierszych dwóch kolumnach mamy informację o tym, które grupy ze sobą są porównywane. `meandiff` oznacza różnice pomiędzy średnimi. W ostatniej kolumnie (`reject`) jest informacja o istotności róznicy - jeśli `True` to różnica jest istotna statystycznie, jeśli `False` to nie jest. Opis tej procedury w wynikach powinien wyglądać jakoś tak:\n",
    "\n",
    "> Testy _post-hoc_ wykazały istotne różnice (p < 0,05) pomiędzy warunkiem XXX a YYY, XXX a ZZZ oraz ZZZ a ŹŹŹ. Nie stwierdzono istotnych różnic pomiędzy warunkiem YYY a ZZZ."
   ]
  },
  {
   "cell_type": "code",
   "execution_count": 59,
   "metadata": {},
   "outputs": [],
   "source": [
    "from statsmodels.stats.multicomp import pairwise_tukeyhsd\n",
    "from statsmodels.stats.multicomp import MultiComparison\n",
    "\n",
    "mc = MultiComparison(d['wynik'], d['kategoria'])\n",
    "mc_results = mc.tukeyhsd()"
   ]
  },
  {
   "cell_type": "code",
   "execution_count": 60,
   "metadata": {},
   "outputs": [
    {
     "name": "stdout",
     "output_type": "stream",
     "text": [
      "       Multiple Comparison of Means - Tukey HSD,FWER=0.05      \n",
      "===============================================================\n",
      "     group1          group2     meandiff  lower   upper  reject\n",
      "---------------------------------------------------------------\n",
      "   fonemiczna    fonemiczna_pyt  1.1562   0.2263  2.0862  True \n",
      "   fonemiczna          ja        4.5312   3.6013  5.4612  True \n",
      "   fonemiczna     semantyczna    0.625    -0.305  1.555  False \n",
      "   fonemiczna   semantyczna_pyt  1.125    0.195   2.055   True \n",
      "   fonemiczna     strukturalna   1.0625   0.1325  1.9925  True \n",
      " fonemiczna_pyt        ja        3.375    2.445   4.305   True \n",
      " fonemiczna_pyt   semantyczna   -0.5312  -1.4612  0.3987 False \n",
      " fonemiczna_pyt semantyczna_pyt -0.0312  -0.9612  0.8987 False \n",
      " fonemiczna_pyt   strukturalna  -0.0938  -1.0237  0.8362 False \n",
      "       ja         semantyczna   -3.9062  -4.8362 -2.9763  True \n",
      "       ja       semantyczna_pyt -3.4062  -4.3362 -2.4763  True \n",
      "       ja         strukturalna  -3.4688  -4.3987 -2.5388  True \n",
      "  semantyczna   semantyczna_pyt   0.5     -0.43    1.43  False \n",
      "  semantyczna     strukturalna   0.4375  -0.4925  1.3675 False \n",
      "semantyczna_pyt   strukturalna  -0.0625  -0.9925  0.8675 False \n",
      "---------------------------------------------------------------\n"
     ]
    }
   ],
   "source": [
    "print(mc_results)"
   ]
  },
  {
   "cell_type": "markdown",
   "metadata": {},
   "source": [
    "# Teraz druga tabela - proporcje zapamiętanych w zależności od odpowiedzi"
   ]
  },
  {
   "cell_type": "markdown",
   "metadata": {},
   "source": [
    "# Średnie i odchylenia"
   ]
  },
  {
   "cell_type": "code",
   "execution_count": 61,
   "metadata": {},
   "outputs": [],
   "source": [
    "gr = d2.groupby(['warunek'])"
   ]
  },
  {
   "cell_type": "markdown",
   "metadata": {},
   "source": [
    "#### Średnie w grupach:"
   ]
  },
  {
   "cell_type": "code",
   "execution_count": 62,
   "metadata": {},
   "outputs": [
    {
     "data": {
      "text/plain": [
       "warunek\n",
       "nie    0.14\n",
       "tak    0.25\n",
       "Name: proporcja, dtype: float64"
      ]
     },
     "execution_count": 62,
     "metadata": {},
     "output_type": "execute_result"
    }
   ],
   "source": [
    "round(gr['proporcja'].mean(), 2)"
   ]
  },
  {
   "cell_type": "markdown",
   "metadata": {},
   "source": [
    "#### Odchylenia standardowe:"
   ]
  },
  {
   "cell_type": "code",
   "execution_count": 63,
   "metadata": {},
   "outputs": [
    {
     "data": {
      "text/plain": [
       "warunek\n",
       "nie    0.08\n",
       "tak    0.08\n",
       "Name: proporcja, dtype: float64"
      ]
     },
     "execution_count": 63,
     "metadata": {},
     "output_type": "execute_result"
    }
   ],
   "source": [
    "round(gr.proporcja.std(), 2)"
   ]
  },
  {
   "cell_type": "markdown",
   "metadata": {},
   "source": [
    "# Boxplot\n",
    "\n",
    "Poniżej wykres gotowy do wklejenia do artykułu. Plik png w wysokiej rozdzielczości w załączniku."
   ]
  },
  {
   "cell_type": "code",
   "execution_count": 64,
   "metadata": {},
   "outputs": [
    {
     "data": {
      "image/png": "[encoded data removed]",
      "text/plain": [
       "<Figure size 432x288 with 1 Axes>"
      ]
     },
     "metadata": {
      "needs_background": "light"
     },
     "output_type": "display_data"
    }
   ],
   "source": [
    "sns.boxplot(x=d2.warunek, y=d2.proporcja)\n",
    "plt.savefig('boxplot2.png', dpi=150)"
   ]
  },
  {
   "cell_type": "markdown",
   "metadata": {},
   "source": [
    "# Test t\n",
    "\n",
    "Test t Studenta odpowiada nam na pytanie, czy istnieją istotne statystycznie różnice pomiędzy średnimi. W tym przypadku udało się wykryć różnice pomiędzy średnimi. Opisując wyniki należy po podaniu wartości śrendnich i odchyleń standardowych napisać coś takiego (oczywiście uzupełnijcie ZZ i ZN).\n",
    "\n",
    "> Różnice w ZZ pod względem ZN okazały się istotne statystycznie; t = 5,748 ; p < 0,001."
   ]
  },
  {
   "cell_type": "code",
   "execution_count": 65,
   "metadata": {},
   "outputs": [],
   "source": [
    "from scipy import stats"
   ]
  },
  {
   "cell_type": "code",
   "execution_count": 66,
   "metadata": {},
   "outputs": [],
   "source": [
    "res = stats.ttest_ind(d2.loc[d2['warunek'] == 'tak', 'proporcja'],\n",
    "               d2.loc[d2['warunek'] == 'nie', 'proporcja'])"
   ]
  },
  {
   "cell_type": "code",
   "execution_count": 67,
   "metadata": {},
   "outputs": [
    {
     "name": "stdout",
     "output_type": "stream",
     "text": [
      "t = 5.748 ; p =  0.0\n"
     ]
    }
   ],
   "source": [
    "print('t =', round(res[0], 3), '; p = ', round(res[1], 3))"
   ]
  }
 ],
 "metadata": {
  "kernelspec": {
   "display_name": "Python 3",
   "language": "python",
   "name": "python3"
  },
  "language_info": {
   "codemirror_mode": {
    "name": "ipython",
    "version": 3
   },
   "file_extension": ".py",
   "mimetype": "text/x-python",
   "name": "python",
   "nbconvert_exporter": "python",
   "pygments_lexer": "ipython3",
   "version": "3.7.3"
  }
 },
 "nbformat": 4,
 "nbformat_minor": 2
}
