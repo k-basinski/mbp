{
 "cells": [
  {
   "cell_type": "markdown",
   "metadata": {},
   "source": [
    "## Alicja Miechowska, Kornel Miszk, Barbara Naparło\n",
    "\n",
    "# Wpływ podobieństwa tarczy zegarka do ludzkiej twarzy na chęć jego zakupu. \n",
    " \n",
    "\n",
    "Karim, A. A., Lützenkirchen, B., Khedr, E., & Khalil, R. (2017). Why is 10 past 10 the default setting for clocks and watches in advertisements? A psychological experiment. Frontiers in psychology, 8, 1410.\n",
    "\n",
    "\n",
    "\n",
    "Celem eksperymentu jest sprawdzenie czy istnieje zależność pomiędzy godziną widoczną na tarczy zegarka a chęcią kupienia go i oceną emocji odczuwanych podczas patrzenia. \n",
    "\n",
    "Przedstawione zjawisko jest szeroko wykorzystywane w marketingu, ponieważ podobieństwo tarczy do uśmiechniętej twarzy ludzkiej zatrzymuje wzrok na dłużej i tym samym zwiększa efektywność sprzedaży. \n",
    "\n",
    "Badani zostaną poinformowani, ze biorą udział w eksperymencie badającym jeden z wykorzystywanych w marketingu mechanizmów bez konkretnej specyfikacji efektu, aby nie zaburzyć wyników.\n",
    "\n",
    "Przedstawimy serie 60 zdjęć 20 zegarków w kolejności losowej. Każdy z zegarków pokażemy w trzech wariantach: 10:10 (uśmiechnięta twarz), 8:20 (smutna twarz), 11:30 (neutralny). Zostaną one przedstawione trzy razy: samo zdjęcie zegarka, zdjęcie z pytaniem \"co czujesz patrząc na ten zegarek?\" i zdjęcie zegarka z pytaniem o chęć zakupu odpowiedzi będą udzielane na 5-stopniowej skali Lickerta (0 - zdecydowanie nie kupiłbym do 5 - zdecydowanie bym kupił). Dla jednej grupy badanych odpowiedzią na pytanie o wywoływane emocje będzie skala Self-Assessment Manikin, a dla drugiej 7-stopniowa słowna skala Lickerta. Badanie odbędzie się przez internet a link do ankiety udostępnimy na portalach społecznościowych. \n",
    "\n",
    "\n",
    "# Informacja dla badanych\n",
    "\n",
    "Zapraszamy do wzięcia udziału w badaniu efektu mechanizmów i manipulacji marketingowych. Polega ono na wypełnieniu krótkiej ankiety i nie powinno zająć więcej niż 15 minut. \n"
   ]
  },
  {
   "cell_type": "code",
   "execution_count": null,
   "metadata": {},
   "outputs": [],
   "source": []
  }
 ],
 "metadata": {
  "kernelspec": {
   "display_name": "Python 3",
   "language": "python",
   "name": "python3"
  },
  "language_info": {
   "codemirror_mode": {
    "name": "ipython",
    "version": 3
   },
   "file_extension": ".py",
   "mimetype": "text/x-python",
   "name": "python",
   "nbconvert_exporter": "python",
   "pygments_lexer": "ipython3",
   "version": "3.7.0"
  }
 },
 "nbformat": 4,
 "nbformat_minor": 2
}
