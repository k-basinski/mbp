{
 "cells": [
  {
   "cell_type": "markdown",
   "metadata": {},
   "source": [
    "# **Protokół**\n",
    "#### **Temat:**\n",
    "Wpływ urozmaicenia tła muzycznego podczas rozwiązywania zadań angażujących różne zdolności poznawcze na poczucie upływu czasu u kobiet. \n",
    "           (inspirowane badaniem A. Kraśkiewicz i E. Czerniawskiej _„Wpływ muzyki na odbiór upływu czasu u młodzieży”_, 2009 r.) \n"
   ]
  },
  {
   "cell_type": "markdown",
   "metadata": {},
   "source": [
    "#### **Wstępne informacje:** \n",
    "W naszym eksperymencie udział wezmą trzy (około) dwunastoosobowe grupy składające się wyłącznie z kobiet w wieku od 19 do 25 lat (dwie grupy z I roku, jedna z któregoś ze starszych roczników Psychologii zdrowia).  "
   ]
  },
  {
   "cell_type": "markdown",
   "metadata": {},
   "source": [
    "#### **Przebieg eksperymentu:**\n",
    "\n",
    "1. Przed wejściem badanych do sali, eksperymentatorzy zdejmują zegary ze ścian i zasłaniają okna w celu uniknięcia rozproszenia uczestniczek. Rozkładają sprzęt (głośnik, stoper, laptop z potrzebnymi plikami muzycznymi) oraz przygotowują zgody na udział w badaniu, kwestionariusze wywiadu, zestawy z łamigłówkami oraz ankiety końcowe.  \n",
    "\n",
    "2. Uczestniczki po wejściu do sali proszone są o wyciszenie telefonów oraz zostawienie wszystkich niepotrzebnych rzeczy (kurtki, torby, zegarki, telefony komórkowe i wszelkie inne multimedia) w wyznaczonym miejscu. \n",
    "\n",
    "3. Uczestniczki zajmują miejsca mniej więcej na środku sali (ważne jest to, aby każda z nich była w podobnej odległości od głośnika) z co najmniej dwoma miejscami przerwy między sobą.  \n",
    "\n",
    "4. Prowadzące przedstawiają uczestniczkom przebieg eksperymentu. Osoby biorące udział w eksperymencie zostają poinformowane o tym, że ich głównym zadaniem będzie rozwiązywanie łamigłówek przy podkładzie dźwiękowym.  \n",
    "\n",
    "5. Badacze rozdają uczestniczkom zgody na udział w badaniu oraz kwestionariusze wywiadu. \n",
    "\n",
    "6. Po zebraniu wypełnionych zgód i kwestionariuszy wywiadu, prowadzące rozdają eksperymentowanym odwrócone arkusze z łamigłówkami. \n",
    "\n",
    "7. W momencie gdy każda z uczestniczek otrzyma łamigłówki, prowadząca daje znak o możliwości rozpoczęcia ich rozwiązywania, włącza stoper i dany plik muzyczny (grupa 1 – plik z większą ilością fragmentów utworów muzycznych, grupa 2 – plik z mniejszą ilość fragmentów, grupa kontrolna – szum). \n",
    "\n",
    "8. Po upływie 8 minut eksperymentatorka zatrzymuje stoper, wyłącza muzykę oraz informuje badanych o upłynięciu czasu przeznaczonego na rozwiązywanie arkusza. \n",
    "\n",
    "9. Prowadząca zbiera rozwiązane łamigłówki. \n",
    "\n",
    "10. Uczestniczki otrzymują arkusz końcowy, gdzie oszacują, ile według nich upłynęło czasu podczas rozwiązywania zadań. \n",
    "\n",
    "11. Prowadząca informuje o ukończeniu eksperymentu i dziękuje za udział w badaniu. "
   ]
  },
  {
   "cell_type": "markdown",
   "metadata": {},
   "source": [
    "# **Arkusz końcowy**\n",
    "\n",
    "Ile według Pani upłynęło czasu podczas rozwiązywania łamigłówek (w minutach)?  \n",
    "\n",
    "__Odpowiedź:__ ….................. \n",
    "\n",
    " \n",
    "\n",
    " \n",
    "\n",
    "Dziękujemy za udział w badaniu. \n",
    "\n",
    "Zespół badawczy: Zofia Rahn, Marta Świdzińska, Agata Wawrzonkowska. \n",
    "\n",
    "Psychologia zdrowia, rok I, GUMed "
   ]
  },
  {
   "cell_type": "markdown",
   "metadata": {},
   "source": [
    "# __Arkusz z łamigłówkami__\n",
    "#### 1. Ile prostokątów znajduje się na rysunku?\n",
    "\n"
   ]
  },
  {
   "cell_type": "markdown",
   "metadata": {},
   "source": [
    "![alt text](http://mozgowiec.pl/upload/image_2708f90e27ad27fc20a7d7e53165610a.jpg)"
   ]
  },
  {
   "cell_type": "markdown",
   "metadata": {},
   "source": [
    "#### 2. Rozwiąż sudoku."
   ]
  },
  {
   "cell_type": "markdown",
   "metadata": {},
   "source": [
    "\n",
    "![alt text](https://upload.wikimedia.org/wikipedia/commons/e/e0/Sudoku_Puzzle_by_L2G-20050714_standardized_layout.svg)"
   ]
  },
  {
   "cell_type": "markdown",
   "metadata": {},
   "source": [
    "#### 3. Znajdź wyjście z labiryntu."
   ]
  },
  {
   "cell_type": "markdown",
   "metadata": {},
   "source": [
    "![alt text](http://www.pokolorujswiat.com/wp-content/uploads/2015/04/1b367-znajdc5ba2bwyjc59bcie2c2blabirynt2ckolorowanki2bmalowanki2bdo2bwydrukowania2c2bznajdc5ba2bwyjc59bcie2bdo2bwydrukowania2clabirynt2bdo2bwydruku2b2.png)"
   ]
  },
  {
   "cell_type": "markdown",
   "metadata": {},
   "source": [
    "#### 4. Połącz w słowa."
   ]
  },
  {
   "cell_type": "markdown",
   "metadata": {},
   "source": [
    "|  1.    |    2.     |\n",
    "|--------|-----------|\n",
    "| MICRO  |     KACJA |\n",
    "| WIELO  |  RAŃCZOWY |\n",
    "| NABRU  |       NET |\n",
    "| NOBILI |      WANY |\n",
    "| NOMI   |     NOWAĆ |\n",
    "| NOTYFI |     NEZJA |\n",
    "| ANIMO  |     TOWAĆ |\n",
    "| ARYT   |     WAŻYĆ |\n",
    "| ARGU   |    BIERAĆ |\n",
    "| AKCE   |   RUDZONY |\n",
    "| AKWA   |    RELOWY |\n",
    "| INTER  |     DZONE |\n",
    "| KALO   |     ENCJA |\n",
    "| SENT   |     RYFER |\n",
    "| LOR    |   CHNIĘTY |\n",
    "| PRZE   |      MENT |\n",
    "| POB    |    PTOWAĆ |\n",
    "| LEKCE  |    METYKA |\n",
    "| UŚMIE  |    NETYKA |\n",
    "| POMA   | WYMIAROWY |\n"
   ]
  },
  {
   "cell_type": "markdown",
   "metadata": {},
   "source": [
    "#### 5. Znajdź i wykreśl dane słowa."
   ]
  },
  {
   "cell_type": "markdown",
   "metadata": {},
   "source": [
    "![alt text](https://eduzabawy.com/wp-content/uploads/2017/09/trudne-wykreslanki-dla-dzieci2.jpg)"
   ]
  },
  {
   "cell_type": "markdown",
   "metadata": {},
   "source": [
    "#### 6. Znajdź różnice."
   ]
  },
  {
   "cell_type": "markdown",
   "metadata": {},
   "source": [
    "![alt text](https://eduzabawy.com/wp-content/uploads/2017/08/znajdz-roznice33.gif)"
   ]
  },
  {
   "cell_type": "markdown",
   "metadata": {},
   "source": [
    "### Źródła:\n",
    "- https://en.wikipedia.org\n",
    "- https://eduzabawy.com\n",
    "- http://mozgowiec.pl\n",
    "- http://www.pokolorujswiat.com\n",
    "- Mechło P., Polek P. (2015). _Piękny umysł nie ma wieku. Łamigłówki dla seniorów i nie tylko._ Gliwice: Helion."
   ]
  },
  {
   "cell_type": "code",
   "execution_count": null,
   "metadata": {},
   "outputs": [],
   "source": []
  }
 ],
 "metadata": {
  "kernelspec": {
   "display_name": "Python 3",
   "language": "python",
   "name": "python3"
  },
  "language_info": {
   "codemirror_mode": {
    "name": "ipython",
    "version": 3
   },
   "file_extension": ".py",
   "mimetype": "text/x-python",
   "name": "python",
   "nbconvert_exporter": "python",
   "pygments_lexer": "ipython3",
   "version": "3.7.0"
  }
 },
 "nbformat": 4,
 "nbformat_minor": 2
}
