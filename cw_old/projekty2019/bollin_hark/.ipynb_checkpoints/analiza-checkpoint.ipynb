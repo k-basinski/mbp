{
 "cells": [
  {
   "cell_type": "code",
   "execution_count": 35,
   "metadata": {},
   "outputs": [],
   "source": [
    "import numpy as np\n",
    "import pandas as pd\n",
    "import seaborn as sns\n",
    "import matplotlib.pyplot as plt\n",
    "\n",
    "import statsmodels.formula.api as smf\n",
    "from statsmodels.stats.anova import anova_lm"
   ]
  },
  {
   "cell_type": "code",
   "execution_count": 36,
   "metadata": {},
   "outputs": [],
   "source": [
    "d = pd.read_excel('dane.xlsx')"
   ]
  },
  {
   "cell_type": "code",
   "execution_count": 37,
   "metadata": {},
   "outputs": [
    {
     "data": {
      "text/html": [
       "<div>\n",
       "<style scoped>\n",
       "    .dataframe tbody tr th:only-of-type {\n",
       "        vertical-align: middle;\n",
       "    }\n",
       "\n",
       "    .dataframe tbody tr th {\n",
       "        vertical-align: top;\n",
       "    }\n",
       "\n",
       "    .dataframe thead th {\n",
       "        text-align: right;\n",
       "    }\n",
       "</style>\n",
       "<table border=\"1\" class=\"dataframe\">\n",
       "  <thead>\n",
       "    <tr style=\"text-align: right;\">\n",
       "      <th></th>\n",
       "      <th>id</th>\n",
       "      <th>plec</th>\n",
       "      <th>nacechowanie</th>\n",
       "      <th>ryzyko</th>\n",
       "    </tr>\n",
       "  </thead>\n",
       "  <tbody>\n",
       "    <tr>\n",
       "      <th>0</th>\n",
       "      <td>1</td>\n",
       "      <td>m</td>\n",
       "      <td>p</td>\n",
       "      <td>t</td>\n",
       "    </tr>\n",
       "    <tr>\n",
       "      <th>1</th>\n",
       "      <td>2</td>\n",
       "      <td>k</td>\n",
       "      <td>p</td>\n",
       "      <td>t</td>\n",
       "    </tr>\n",
       "    <tr>\n",
       "      <th>2</th>\n",
       "      <td>3</td>\n",
       "      <td>m</td>\n",
       "      <td>p</td>\n",
       "      <td>n</td>\n",
       "    </tr>\n",
       "    <tr>\n",
       "      <th>3</th>\n",
       "      <td>4</td>\n",
       "      <td>k</td>\n",
       "      <td>p</td>\n",
       "      <td>n</td>\n",
       "    </tr>\n",
       "    <tr>\n",
       "      <th>4</th>\n",
       "      <td>5</td>\n",
       "      <td>k</td>\n",
       "      <td>p</td>\n",
       "      <td>n</td>\n",
       "    </tr>\n",
       "  </tbody>\n",
       "</table>\n",
       "</div>"
      ],
      "text/plain": [
       "   id plec nacechowanie ryzyko\n",
       "0   1    m            p      t\n",
       "1   2    k            p      t\n",
       "2   3    m            p      n\n",
       "3   4    k            p      n\n",
       "4   5    k            p      n"
      ]
     },
     "execution_count": 37,
     "metadata": {},
     "output_type": "execute_result"
    }
   ],
   "source": [
    "d.head()"
   ]
  },
  {
   "cell_type": "code",
   "execution_count": 38,
   "metadata": {},
   "outputs": [
    {
     "data": {
      "text/plain": [
       "t    44\n",
       "n    35\n",
       "r     1\n",
       "Name: ryzyko, dtype: int64"
      ]
     },
     "execution_count": 38,
     "metadata": {},
     "output_type": "execute_result"
    }
   ],
   "source": [
    "d.ryzyko.value_counts()"
   ]
  },
  {
   "cell_type": "markdown",
   "metadata": {},
   "source": [
    "## Uwaga!\n",
    "\n",
    "Zastosowałem u Was mały wybieg, który pozwoli prosto zastosować ANOVĘ 2x2. Wasza zmienna zależna jest dychotomiczna. Zamieniłem `t` i `n` na, odpowiednio, 1 i 0. Możemy dzięki temu operować na liczbach. Im średnia ryzyka jest wyższa, tym większa szansa na podjęcie ryzyka (jesteśmy \"bliżej odpowiedzi _tak_\"). Nie jest to może najpiękniejsze od strony metodologicznej (powinno sie skorzystać z procedury zwanej regresją logistyczną), ale myślę, że wyniki będą rzetelne a wy może coś zrozumiecie z tego:)\n",
    "\n",
    "BTW. trafiła wam się jedna odpowiedź `r`. Uznałem ją za `t` bo są obok siebie na klawiaturze."
   ]
  },
  {
   "cell_type": "code",
   "execution_count": 39,
   "metadata": {},
   "outputs": [],
   "source": [
    "d.loc[:, 'ryzyko'] = d.ryzyko.replace({'t': 1, 'n': 0, 'r': 1})"
   ]
  },
  {
   "cell_type": "markdown",
   "metadata": {},
   "source": [
    "# Średnie i odchylenia"
   ]
  },
  {
   "cell_type": "code",
   "execution_count": 40,
   "metadata": {},
   "outputs": [],
   "source": [
    "gr = d.groupby(['plec', 'nacechowanie'])"
   ]
  },
  {
   "cell_type": "markdown",
   "metadata": {},
   "source": [
    "#### Średnie w grupach:"
   ]
  },
  {
   "cell_type": "code",
   "execution_count": 41,
   "metadata": {},
   "outputs": [
    {
     "data": {
      "text/plain": [
       "plec  nacechowanie\n",
       "k     n               0.65\n",
       "      p               0.30\n",
       "m     n               0.80\n",
       "      p               0.50\n",
       "Name: ryzyko, dtype: float64"
      ]
     },
     "execution_count": 41,
     "metadata": {},
     "output_type": "execute_result"
    }
   ],
   "source": [
    "round(gr.ryzyko.mean(), 2)"
   ]
  },
  {
   "cell_type": "code",
   "execution_count": 42,
   "metadata": {},
   "outputs": [
    {
     "data": {
      "text/plain": [
       "plec  nacechowanie\n",
       "k     n               0.49\n",
       "      p               0.47\n",
       "m     n               0.41\n",
       "      p               0.51\n",
       "Name: ryzyko, dtype: float64"
      ]
     },
     "execution_count": 42,
     "metadata": {},
     "output_type": "execute_result"
    }
   ],
   "source": [
    "round(gr.ryzyko.std(), 2)"
   ]
  },
  {
   "cell_type": "markdown",
   "metadata": {},
   "source": [
    "# Wykresy\n",
    "\n",
    "Poniżej wykresy gotowe do wklejenia do artykułu. Pliki png w wysokiej rozdzielczości w załączniku."
   ]
  },
  {
   "cell_type": "markdown",
   "metadata": {},
   "source": [
    "### Książki"
   ]
  },
  {
   "cell_type": "code",
   "execution_count": 43,
   "metadata": {},
   "outputs": [
    {
     "data": {
      "image/png": "[encoded data removed]",
      "text/plain": [
       "<Figure size 405.625x360 with 1 Axes>"
      ]
     },
     "metadata": {
      "needs_background": "light"
     },
     "output_type": "display_data"
    }
   ],
   "source": [
    "sns.catplot(x='nacechowanie', y='ryzyko',hue='plec', data=d,\n",
    "            kind='point', capsize=.2, palette='viridis')\n",
    "plt.savefig('anova.png', dpi=150)"
   ]
  },
  {
   "cell_type": "markdown",
   "metadata": {},
   "source": [
    "# ANOVA 2x2"
   ]
  },
  {
   "cell_type": "markdown",
   "metadata": {},
   "source": [
    "W poniższych tabelach przedstawione są efekty głowne (płeć i nacechowanie) i efekt interakcji dla każdej z badanych zmiennych zależnych. Kolumna df mówi o stopniach swobody, F o wartości statystyki F a PR(>F) to wasz poziom istotności p. Jeśli p jest mniejsze niż 0.05, mówimy że dany efekt jest _istotny statystycznie_.\n",
    "\n",
    "W rozdziale wynikowym opiszcie wszystkie średnie (patrz wyżej), pokażcie wszystkie wykresy, a w tekście dla każdego efektu dopiszcie opis, wg poniższego schematu:\n",
    "\n",
    "> Efekt główny/interakcji ZN na ZZ okazał się istotny/nieistotny statystycznie; F(_df_, _dfR_) = _F_, p < PR(>F).\n",
    "\n",
    "Gdzie _df_ bierzecie z kolumny `df` a _dfR_ to `df` dla `Residual`.\n",
    "\n",
    "> Efekt główny nacechowania okazał się istotny statystycznie; F(1, 76) = 9,472, p < 0,01. Efekt główny płci okazał się nieistotny statystycznie; F(1, 76) = 2,746, p > 0,05. Efekt interakcji nacechowania i płci okazał się nieistotny statystycznie; F(1, 76) = 0,056, p > 0,05."
   ]
  },
  {
   "cell_type": "code",
   "execution_count": 44,
   "metadata": {},
   "outputs": [
    {
     "data": {
      "text/html": [
       "<div>\n",
       "<style scoped>\n",
       "    .dataframe tbody tr th:only-of-type {\n",
       "        vertical-align: middle;\n",
       "    }\n",
       "\n",
       "    .dataframe tbody tr th {\n",
       "        vertical-align: top;\n",
       "    }\n",
       "\n",
       "    .dataframe thead th {\n",
       "        text-align: right;\n",
       "    }\n",
       "</style>\n",
       "<table border=\"1\" class=\"dataframe\">\n",
       "  <thead>\n",
       "    <tr style=\"text-align: right;\">\n",
       "      <th></th>\n",
       "      <th>sum_sq</th>\n",
       "      <th>df</th>\n",
       "      <th>F</th>\n",
       "      <th>PR(&gt;F)</th>\n",
       "    </tr>\n",
       "  </thead>\n",
       "  <tbody>\n",
       "    <tr>\n",
       "      <th>nacechowanie</th>\n",
       "      <td>2.1125</td>\n",
       "      <td>1.0</td>\n",
       "      <td>9.471976</td>\n",
       "      <td>0.002901</td>\n",
       "    </tr>\n",
       "    <tr>\n",
       "      <th>plec</th>\n",
       "      <td>0.6125</td>\n",
       "      <td>1.0</td>\n",
       "      <td>2.746313</td>\n",
       "      <td>0.101602</td>\n",
       "    </tr>\n",
       "    <tr>\n",
       "      <th>nacechowanie:plec</th>\n",
       "      <td>0.0125</td>\n",
       "      <td>1.0</td>\n",
       "      <td>0.056047</td>\n",
       "      <td>0.813493</td>\n",
       "    </tr>\n",
       "    <tr>\n",
       "      <th>Residual</th>\n",
       "      <td>16.9500</td>\n",
       "      <td>76.0</td>\n",
       "      <td>NaN</td>\n",
       "      <td>NaN</td>\n",
       "    </tr>\n",
       "  </tbody>\n",
       "</table>\n",
       "</div>"
      ],
      "text/plain": [
       "                    sum_sq    df         F    PR(>F)\n",
       "nacechowanie        2.1125   1.0  9.471976  0.002901\n",
       "plec                0.6125   1.0  2.746313  0.101602\n",
       "nacechowanie:plec   0.0125   1.0  0.056047  0.813493\n",
       "Residual           16.9500  76.0       NaN       NaN"
      ]
     },
     "execution_count": 44,
     "metadata": {},
     "output_type": "execute_result"
    }
   ],
   "source": [
    "form = 'ryzyko ~ nacechowanie + plec + nacechowanie:plec'\n",
    "model = smf.ols(formula=form, data=d).fit()          \n",
    "anova_lm(model, typ=2)"
   ]
  },
  {
   "cell_type": "code",
   "execution_count": null,
   "metadata": {},
   "outputs": [],
   "source": []
  }
 ],
 "metadata": {
  "kernelspec": {
   "display_name": "Python 3",
   "language": "python",
   "name": "python3"
  },
  "language_info": {
   "codemirror_mode": {
    "name": "ipython",
    "version": 3
   },
   "file_extension": ".py",
   "mimetype": "text/x-python",
   "name": "python",
   "nbconvert_exporter": "python",
   "pygments_lexer": "ipython3",
   "version": "3.7.3"
  }
 },
 "nbformat": 4,
 "nbformat_minor": 2
}
