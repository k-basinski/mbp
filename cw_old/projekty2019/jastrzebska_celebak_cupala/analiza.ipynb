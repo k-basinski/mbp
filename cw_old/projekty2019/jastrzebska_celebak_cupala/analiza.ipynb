{
 "cells": [
  {
   "cell_type": "code",
   "execution_count": 69,
   "metadata": {},
   "outputs": [],
   "source": [
    "import numpy as np\n",
    "import pandas as pd\n",
    "import seaborn as sns\n",
    "import matplotlib.pyplot as plt\n",
    "\n",
    "import statsmodels.formula.api as smf\n",
    "from statsmodels.stats.anova import anova_lm"
   ]
  },
  {
   "cell_type": "code",
   "execution_count": 70,
   "metadata": {},
   "outputs": [],
   "source": [
    "# import danych\n",
    "d = pd.read_excel(\"dane.xlsx\")"
   ]
  },
  {
   "cell_type": "code",
   "execution_count": 71,
   "metadata": {},
   "outputs": [
    {
     "data": {
      "text/html": [
       "<div>\n",
       "<style scoped>\n",
       "    .dataframe tbody tr th:only-of-type {\n",
       "        vertical-align: middle;\n",
       "    }\n",
       "\n",
       "    .dataframe tbody tr th {\n",
       "        vertical-align: top;\n",
       "    }\n",
       "\n",
       "    .dataframe thead th {\n",
       "        text-align: right;\n",
       "    }\n",
       "</style>\n",
       "<table border=\"1\" class=\"dataframe\">\n",
       "  <thead>\n",
       "    <tr style=\"text-align: right;\">\n",
       "      <th></th>\n",
       "      <th>id</th>\n",
       "      <th>id_osoby</th>\n",
       "      <th>grupa</th>\n",
       "      <th>log_abstr</th>\n",
       "      <th>zadanie</th>\n",
       "      <th>poprawnosc</th>\n",
       "      <th>czas</th>\n",
       "      <th>cieplo</th>\n",
       "    </tr>\n",
       "  </thead>\n",
       "  <tbody>\n",
       "    <tr>\n",
       "      <th>0</th>\n",
       "      <td>1</td>\n",
       "      <td>1</td>\n",
       "      <td>30s</td>\n",
       "      <td>log</td>\n",
       "      <td>1</td>\n",
       "      <td>t</td>\n",
       "      <td>300</td>\n",
       "      <td>0.0</td>\n",
       "    </tr>\n",
       "    <tr>\n",
       "      <th>1</th>\n",
       "      <td>2</td>\n",
       "      <td>1</td>\n",
       "      <td>30s</td>\n",
       "      <td>abstr</td>\n",
       "      <td>2</td>\n",
       "      <td>n</td>\n",
       "      <td>300</td>\n",
       "      <td>-4.0</td>\n",
       "    </tr>\n",
       "    <tr>\n",
       "      <th>2</th>\n",
       "      <td>3</td>\n",
       "      <td>1</td>\n",
       "      <td>30s</td>\n",
       "      <td>log</td>\n",
       "      <td>3</td>\n",
       "      <td>t</td>\n",
       "      <td>300</td>\n",
       "      <td>-7.5</td>\n",
       "    </tr>\n",
       "    <tr>\n",
       "      <th>3</th>\n",
       "      <td>4</td>\n",
       "      <td>1</td>\n",
       "      <td>30s</td>\n",
       "      <td>abstr</td>\n",
       "      <td>4</td>\n",
       "      <td>n</td>\n",
       "      <td>225</td>\n",
       "      <td>4.0</td>\n",
       "    </tr>\n",
       "    <tr>\n",
       "      <th>4</th>\n",
       "      <td>5</td>\n",
       "      <td>2</td>\n",
       "      <td>30s</td>\n",
       "      <td>log</td>\n",
       "      <td>1</td>\n",
       "      <td>n</td>\n",
       "      <td>300</td>\n",
       "      <td>31.0</td>\n",
       "    </tr>\n",
       "  </tbody>\n",
       "</table>\n",
       "</div>"
      ],
      "text/plain": [
       "   id  id_osoby grupa log_abstr  zadanie poprawnosc  czas   cieplo\n",
       "0   1         1   30s       log        1          t    300     0.0\n",
       "1   2         1   30s     abstr        2          n    300    -4.0\n",
       "2   3         1   30s       log        3          t    300    -7.5\n",
       "3   4         1   30s     abstr        4          n    225     4.0\n",
       "4   5         2   30s       log        1          n    300    31.0"
      ]
     },
     "execution_count": 71,
     "metadata": {},
     "output_type": "execute_result"
    }
   ],
   "source": [
    "d.head()"
   ]
  },
  {
   "cell_type": "code",
   "execution_count": 72,
   "metadata": {},
   "outputs": [
    {
     "data": {
      "text/plain": [
       "30s          48\n",
       "dowol        48\n",
       "kontrolna    48\n",
       "Name: grupa, dtype: int64"
      ]
     },
     "execution_count": 72,
     "metadata": {},
     "output_type": "execute_result"
    }
   ],
   "source": [
    "d.grupa.value_counts()"
   ]
  },
  {
   "cell_type": "code",
   "execution_count": 73,
   "metadata": {},
   "outputs": [
    {
     "data": {
      "text/plain": [
       "abstr    72\n",
       "log      72\n",
       "Name: log_abstr, dtype: int64"
      ]
     },
     "execution_count": 73,
     "metadata": {},
     "output_type": "execute_result"
    }
   ],
   "source": [
    "d.log_abstr.value_counts()"
   ]
  },
  {
   "cell_type": "code",
   "execution_count": 74,
   "metadata": {},
   "outputs": [],
   "source": [
    "# zamień t na 1, n na 0\n",
    "d.loc[:, 'poprawnosc'] = d.poprawnosc.replace({'t': 1, 'n': 0})"
   ]
  },
  {
   "cell_type": "code",
   "execution_count": 75,
   "metadata": {},
   "outputs": [],
   "source": [
    "d = d.rename({'czas ': 'czas'}, axis='columns')\n"
   ]
  },
  {
   "cell_type": "markdown",
   "metadata": {},
   "source": [
    "## Hipoteza:\n",
    "Osoby niezobowiązane do określania „poczucia ciepła” lepiej i szybciej rozwiążą zadania, niż osoby zobowiązane do określania „poczucia ciepła”."
   ]
  },
  {
   "cell_type": "markdown",
   "metadata": {},
   "source": [
    "#### Średnie"
   ]
  },
  {
   "cell_type": "code",
   "execution_count": 76,
   "metadata": {},
   "outputs": [],
   "source": [
    "gr = d.groupby(['grupa', 'log_abstr'])"
   ]
  },
  {
   "cell_type": "code",
   "execution_count": 77,
   "metadata": {},
   "outputs": [
    {
     "data": {
      "text/plain": [
       "grupa      log_abstr\n",
       "30s        abstr        0.50\n",
       "           log          0.54\n",
       "dowol      abstr        0.50\n",
       "           log          0.54\n",
       "kontrolna  abstr        0.46\n",
       "           log          0.67\n",
       "Name: poprawnosc, dtype: float64"
      ]
     },
     "execution_count": 77,
     "metadata": {},
     "output_type": "execute_result"
    }
   ],
   "source": [
    "round(gr.poprawnosc.mean(), 2)"
   ]
  },
  {
   "cell_type": "code",
   "execution_count": 78,
   "metadata": {},
   "outputs": [
    {
     "data": {
      "text/plain": [
       "grupa      log_abstr\n",
       "30s        abstr        237.50\n",
       "           log          275.08\n",
       "dowol      abstr        259.71\n",
       "           log          279.58\n",
       "kontrolna  abstr        238.29\n",
       "           log          267.21\n",
       "Name: czas, dtype: float64"
      ]
     },
     "execution_count": 78,
     "metadata": {},
     "output_type": "execute_result"
    }
   ],
   "source": [
    "round(gr.czas.mean(), 2)"
   ]
  },
  {
   "cell_type": "markdown",
   "metadata": {},
   "source": [
    "#### Odchylenia"
   ]
  },
  {
   "cell_type": "code",
   "execution_count": 79,
   "metadata": {},
   "outputs": [
    {
     "data": {
      "text/plain": [
       "grupa      log_abstr\n",
       "30s        abstr        0.51\n",
       "           log          0.51\n",
       "dowol      abstr        0.51\n",
       "           log          0.51\n",
       "kontrolna  abstr        0.51\n",
       "           log          0.48\n",
       "Name: poprawnosc, dtype: float64"
      ]
     },
     "execution_count": 79,
     "metadata": {},
     "output_type": "execute_result"
    }
   ],
   "source": [
    "round(gr.poprawnosc.std(), 2)"
   ]
  },
  {
   "cell_type": "code",
   "execution_count": 80,
   "metadata": {},
   "outputs": [
    {
     "data": {
      "text/plain": [
       "grupa      log_abstr\n",
       "30s        abstr        93.63\n",
       "           log          48.19\n",
       "dowol      abstr        78.16\n",
       "           log          49.73\n",
       "kontrolna  abstr        93.45\n",
       "           log          44.27\n",
       "Name: czas, dtype: float64"
      ]
     },
     "execution_count": 80,
     "metadata": {},
     "output_type": "execute_result"
    }
   ],
   "source": [
    "round(gr.czas.std(), 2)"
   ]
  },
  {
   "cell_type": "markdown",
   "metadata": {},
   "source": [
    "# Wykresy\n",
    "\n",
    "Poniżej wykresy gotowe do wklejenia do artykułu. Pliki png w wysokiej rozdzielczości w załączniku."
   ]
  },
  {
   "cell_type": "markdown",
   "metadata": {},
   "source": [
    "### Poprawność"
   ]
  },
  {
   "cell_type": "code",
   "execution_count": 81,
   "metadata": {},
   "outputs": [
    {
     "data": {
      "image/png": "[encoded data removed]",
      "text/plain": [
       "<Figure size 421.625x360 with 1 Axes>"
      ]
     },
     "metadata": {
      "needs_background": "light"
     },
     "output_type": "display_data"
    }
   ],
   "source": [
    "sns.catplot(x='grupa', y='poprawnosc',hue='log_abstr', data=d,\n",
    "            kind='point', capsize=.2, palette='viridis')\n",
    "plt.savefig('poprawnosc.png', dpi=150)"
   ]
  },
  {
   "cell_type": "markdown",
   "metadata": {},
   "source": [
    "### Czas"
   ]
  },
  {
   "cell_type": "code",
   "execution_count": 82,
   "metadata": {},
   "outputs": [
    {
     "data": {
      "image/png": "[encoded data removed]",
      "text/plain": [
       "<Figure size 421.625x360 with 1 Axes>"
      ]
     },
     "metadata": {
      "needs_background": "light"
     },
     "output_type": "display_data"
    }
   ],
   "source": [
    "sns.catplot(x='grupa', y='czas',hue='log_abstr', data=d,\n",
    "            kind='point', capsize=.2, palette='viridis')\n",
    "plt.savefig('czas.png', dpi=150)"
   ]
  },
  {
   "cell_type": "markdown",
   "metadata": {},
   "source": [
    "# ANOVA 2x2"
   ]
  },
  {
   "cell_type": "markdown",
   "metadata": {},
   "source": [
    "W poniższych tabelach przedstawione są efekty głowne (grupa i logiczność/abstrakcyjność) i efekt interakcji dla każdej z badanych zmiennych zależnych. Kolumna df mówi o stopniach swobody, F o wartości statystyki F a PR(>F) to wasz poziom istotności p. Jeśli p jest mniejsze niż 0.05, mówimy że dany efekt jest _istotny statystycznie_.\n",
    "\n",
    "W rozdziale wynikowym opiszcie wszystkie średnie (patrz wyżej), pokażcie wszystkie wykresy, a w tekście dla każdego efektu dopiszcie opis, wg poniższego schematu:\n",
    "\n",
    "> Efekt główny/interakcji ZN na ZZ okazał się istotny/nieistotny statystycznie; F(_df_, _dfR_) = _F_, p < PR(>F).\n",
    "\n",
    "Gdzie _df_ bierzecie z kolumny `df` a _dfR_ to `df` dla `Residual`. Czyli przykładowo dla poprawności:\n",
    "\n",
    "> Efekt główny grupy dla oceny poprawności okazał się nieistotny statystycznie; F(1, 138) = 0,109, p > 0,05. Efekt główny logiczności/abstrakcyjności dla oceny poprawności okazał się nieistotny statystycznie; F(1, 138) = 1,333, p > 0,05. Efekt interakcji grupy i logiczności/abstrakcyjności okazał się nieistotny statystycznie; F(1, 138) = 0,436, p > 0,05."
   ]
  },
  {
   "cell_type": "markdown",
   "metadata": {},
   "source": [
    "### Poprawność"
   ]
  },
  {
   "cell_type": "code",
   "execution_count": 83,
   "metadata": {},
   "outputs": [
    {
     "data": {
      "text/html": [
       "<div>\n",
       "<style scoped>\n",
       "    .dataframe tbody tr th:only-of-type {\n",
       "        vertical-align: middle;\n",
       "    }\n",
       "\n",
       "    .dataframe tbody tr th {\n",
       "        vertical-align: top;\n",
       "    }\n",
       "\n",
       "    .dataframe thead th {\n",
       "        text-align: right;\n",
       "    }\n",
       "</style>\n",
       "<table border=\"1\" class=\"dataframe\">\n",
       "  <thead>\n",
       "    <tr style=\"text-align: right;\">\n",
       "      <th></th>\n",
       "      <th>sum_sq</th>\n",
       "      <th>df</th>\n",
       "      <th>F</th>\n",
       "      <th>PR(&gt;F)</th>\n",
       "    </tr>\n",
       "  </thead>\n",
       "  <tbody>\n",
       "    <tr>\n",
       "      <th>grupa</th>\n",
       "      <td>0.055556</td>\n",
       "      <td>2.0</td>\n",
       "      <td>0.108876</td>\n",
       "      <td>0.896919</td>\n",
       "    </tr>\n",
       "    <tr>\n",
       "      <th>log_abstr</th>\n",
       "      <td>0.340278</td>\n",
       "      <td>1.0</td>\n",
       "      <td>1.333728</td>\n",
       "      <td>0.250139</td>\n",
       "    </tr>\n",
       "    <tr>\n",
       "      <th>grupa:log_abstr</th>\n",
       "      <td>0.222222</td>\n",
       "      <td>2.0</td>\n",
       "      <td>0.435503</td>\n",
       "      <td>0.647825</td>\n",
       "    </tr>\n",
       "    <tr>\n",
       "      <th>Residual</th>\n",
       "      <td>35.208333</td>\n",
       "      <td>138.0</td>\n",
       "      <td>NaN</td>\n",
       "      <td>NaN</td>\n",
       "    </tr>\n",
       "  </tbody>\n",
       "</table>\n",
       "</div>"
      ],
      "text/plain": [
       "                    sum_sq     df         F    PR(>F)\n",
       "grupa             0.055556    2.0  0.108876  0.896919\n",
       "log_abstr         0.340278    1.0  1.333728  0.250139\n",
       "grupa:log_abstr   0.222222    2.0  0.435503  0.647825\n",
       "Residual         35.208333  138.0       NaN       NaN"
      ]
     },
     "execution_count": 83,
     "metadata": {},
     "output_type": "execute_result"
    }
   ],
   "source": [
    "form = 'poprawnosc ~ grupa + log_abstr + grupa:log_abstr'\n",
    "model = smf.ols(formula=form, data=d).fit()          \n",
    "anova_lm(model, typ=2)"
   ]
  },
  {
   "cell_type": "markdown",
   "metadata": {},
   "source": [
    "### Czas"
   ]
  },
  {
   "cell_type": "code",
   "execution_count": 84,
   "metadata": {},
   "outputs": [
    {
     "data": {
      "text/html": [
       "<div>\n",
       "<style scoped>\n",
       "    .dataframe tbody tr th:only-of-type {\n",
       "        vertical-align: middle;\n",
       "    }\n",
       "\n",
       "    .dataframe tbody tr th {\n",
       "        vertical-align: top;\n",
       "    }\n",
       "\n",
       "    .dataframe thead th {\n",
       "        text-align: right;\n",
       "    }\n",
       "</style>\n",
       "<table border=\"1\" class=\"dataframe\">\n",
       "  <thead>\n",
       "    <tr style=\"text-align: right;\">\n",
       "      <th></th>\n",
       "      <th>sum_sq</th>\n",
       "      <th>df</th>\n",
       "      <th>F</th>\n",
       "      <th>PR(&gt;F)</th>\n",
       "    </tr>\n",
       "  </thead>\n",
       "  <tbody>\n",
       "    <tr>\n",
       "      <th>grupa</th>\n",
       "      <td>7621.541667</td>\n",
       "      <td>2.0</td>\n",
       "      <td>0.753048</td>\n",
       "      <td>0.472854</td>\n",
       "    </tr>\n",
       "    <tr>\n",
       "      <th>log_abstr</th>\n",
       "      <td>29842.562500</td>\n",
       "      <td>1.0</td>\n",
       "      <td>5.897203</td>\n",
       "      <td>0.016452</td>\n",
       "    </tr>\n",
       "    <tr>\n",
       "      <th>grupa:log_abstr</th>\n",
       "      <td>1881.791667</td>\n",
       "      <td>2.0</td>\n",
       "      <td>0.185931</td>\n",
       "      <td>0.830539</td>\n",
       "    </tr>\n",
       "    <tr>\n",
       "      <th>Residual</th>\n",
       "      <td>698343.541667</td>\n",
       "      <td>138.0</td>\n",
       "      <td>NaN</td>\n",
       "      <td>NaN</td>\n",
       "    </tr>\n",
       "  </tbody>\n",
       "</table>\n",
       "</div>"
      ],
      "text/plain": [
       "                        sum_sq     df         F    PR(>F)\n",
       "grupa              7621.541667    2.0  0.753048  0.472854\n",
       "log_abstr         29842.562500    1.0  5.897203  0.016452\n",
       "grupa:log_abstr    1881.791667    2.0  0.185931  0.830539\n",
       "Residual         698343.541667  138.0       NaN       NaN"
      ]
     },
     "execution_count": 84,
     "metadata": {},
     "output_type": "execute_result"
    }
   ],
   "source": [
    "form = 'czas ~ grupa + log_abstr + grupa:log_abstr'\n",
    "model = smf.ols(formula=form, data=d).fit()          \n",
    "anova_lm(model, typ=2)"
   ]
  },
  {
   "cell_type": "markdown",
   "metadata": {},
   "source": [
    "# Hipoteza: \n",
    "\n",
    "#### *„Poczucie ciepła”* wzrasta, kiedy człowiek zbliża się do rozwiązania zadania.\n",
    "\n",
    "(to nie jest już plan eksperymentalny, ponieważ nie manipulowaliśmy tym. Zrobiłem zwykły test t, porównując poczucie ciepła dla prób, w których badany rozwiązał prawidłowo zadanie i w których mu się to nie udało."
   ]
  },
  {
   "cell_type": "markdown",
   "metadata": {},
   "source": [
    "#### Boxplot"
   ]
  },
  {
   "cell_type": "code",
   "execution_count": 89,
   "metadata": {},
   "outputs": [
    {
     "data": {
      "image/png": "[encoded data removed]",
      "text/plain": [
       "<Figure size 432x288 with 1 Axes>"
      ]
     },
     "metadata": {
      "needs_background": "light"
     },
     "output_type": "display_data"
    }
   ],
   "source": [
    "# wywal kontrolę\n",
    "bk = d.loc[d.grupa != 'kontrolna', :]\n",
    "sns.boxplot(x='poprawnosc', y='cieplo', data=bk)\n",
    "plt.savefig('cieplo.png', dpi=150)"
   ]
  },
  {
   "cell_type": "markdown",
   "metadata": {},
   "source": [
    "### Test t\n",
    "\n",
    "Test t Studenta odpowiada nam na pytanie, czy istnieją istotne statystycznie różnice pomiędzy średnimi. W tym przypadku udało się wykryć różnice pomiędzy średnimi. Opisując wyniki należy po podaniu wartości śrendnich i odchyleń standardowych napisać coś takiego (oczywiście uzupełnijcie ZZ i ZN).\n",
    "\n",
    "> Różnice w ZZ pod względem ZN okazały się istotne statystycznie; t = -4,440 ; p < 0,001."
   ]
  },
  {
   "cell_type": "code",
   "execution_count": 86,
   "metadata": {},
   "outputs": [],
   "source": [
    "from scipy import stats"
   ]
  },
  {
   "cell_type": "code",
   "execution_count": 87,
   "metadata": {},
   "outputs": [],
   "source": [
    "res = stats.ttest_ind(bk.loc[bk['poprawnosc'] == 0, 'cieplo'],\n",
    "               bk.loc[bk['poprawnosc'] == 1, 'cieplo'])"
   ]
  },
  {
   "cell_type": "code",
   "execution_count": 88,
   "metadata": {},
   "outputs": [
    {
     "name": "stdout",
     "output_type": "stream",
     "text": [
      "t = -4.44 ; p =  0.0\n"
     ]
    }
   ],
   "source": [
    "print('t =', round(res[0], 3), '; p = ', round(res[1], 3))"
   ]
  },
  {
   "cell_type": "code",
   "execution_count": null,
   "metadata": {},
   "outputs": [],
   "source": []
  }
 ],
 "metadata": {
  "kernelspec": {
   "display_name": "Python 3",
   "language": "python",
   "name": "python3"
  },
  "language_info": {
   "codemirror_mode": {
    "name": "ipython",
    "version": 3
   },
   "file_extension": ".py",
   "mimetype": "text/x-python",
   "name": "python",
   "nbconvert_exporter": "python",
   "pygments_lexer": "ipython3",
   "version": "3.7.3"
  }
 },
 "nbformat": 4,
 "nbformat_minor": 2
}
