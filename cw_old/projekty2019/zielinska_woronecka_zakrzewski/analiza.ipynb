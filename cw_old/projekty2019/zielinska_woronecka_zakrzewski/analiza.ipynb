{
 "cells": [
  {
   "cell_type": "code",
   "execution_count": 24,
   "metadata": {},
   "outputs": [],
   "source": [
    "import numpy as np\n",
    "import pandas as pd\n",
    "import seaborn as sns\n",
    "import matplotlib.pyplot as plt\n",
    "\n",
    "import statsmodels.formula.api as smf\n",
    "from statsmodels.stats.anova import anova_lm"
   ]
  },
  {
   "cell_type": "code",
   "execution_count": 2,
   "metadata": {},
   "outputs": [],
   "source": [
    "# import danych\n",
    "d = pd.read_excel(\"dane.xlsx\")"
   ]
  },
  {
   "cell_type": "code",
   "execution_count": 3,
   "metadata": {},
   "outputs": [
    {
     "data": {
      "text/html": [
       "<div>\n",
       "<style scoped>\n",
       "    .dataframe tbody tr th:only-of-type {\n",
       "        vertical-align: middle;\n",
       "    }\n",
       "\n",
       "    .dataframe tbody tr th {\n",
       "        vertical-align: top;\n",
       "    }\n",
       "\n",
       "    .dataframe thead th {\n",
       "        text-align: right;\n",
       "    }\n",
       "</style>\n",
       "<table border=\"1\" class=\"dataframe\">\n",
       "  <thead>\n",
       "    <tr style=\"text-align: right;\">\n",
       "      <th></th>\n",
       "      <th>lp</th>\n",
       "      <th>numer_grupy</th>\n",
       "      <th>kalibracja</th>\n",
       "      <th>szerokosc</th>\n",
       "      <th>ksiazki</th>\n",
       "      <th>portale</th>\n",
       "      <th>fastfood</th>\n",
       "      <th>pieniadze</th>\n",
       "      <th>sport</th>\n",
       "    </tr>\n",
       "  </thead>\n",
       "  <tbody>\n",
       "    <tr>\n",
       "      <th>0</th>\n",
       "      <td>1</td>\n",
       "      <td>1</td>\n",
       "      <td>niska</td>\n",
       "      <td>waska</td>\n",
       "      <td>5</td>\n",
       "      <td>4</td>\n",
       "      <td>1</td>\n",
       "      <td>3</td>\n",
       "      <td>5</td>\n",
       "    </tr>\n",
       "    <tr>\n",
       "      <th>1</th>\n",
       "      <td>2</td>\n",
       "      <td>1</td>\n",
       "      <td>niska</td>\n",
       "      <td>waska</td>\n",
       "      <td>1</td>\n",
       "      <td>5</td>\n",
       "      <td>1</td>\n",
       "      <td>4</td>\n",
       "      <td>1</td>\n",
       "    </tr>\n",
       "    <tr>\n",
       "      <th>2</th>\n",
       "      <td>3</td>\n",
       "      <td>1</td>\n",
       "      <td>niska</td>\n",
       "      <td>waska</td>\n",
       "      <td>1</td>\n",
       "      <td>5</td>\n",
       "      <td>5</td>\n",
       "      <td>5</td>\n",
       "      <td>2</td>\n",
       "    </tr>\n",
       "    <tr>\n",
       "      <th>3</th>\n",
       "      <td>4</td>\n",
       "      <td>1</td>\n",
       "      <td>niska</td>\n",
       "      <td>waska</td>\n",
       "      <td>5</td>\n",
       "      <td>4</td>\n",
       "      <td>2</td>\n",
       "      <td>2</td>\n",
       "      <td>5</td>\n",
       "    </tr>\n",
       "    <tr>\n",
       "      <th>4</th>\n",
       "      <td>5</td>\n",
       "      <td>1</td>\n",
       "      <td>niska</td>\n",
       "      <td>waska</td>\n",
       "      <td>5</td>\n",
       "      <td>2</td>\n",
       "      <td>1</td>\n",
       "      <td>1</td>\n",
       "      <td>1</td>\n",
       "    </tr>\n",
       "  </tbody>\n",
       "</table>\n",
       "</div>"
      ],
      "text/plain": [
       "   lp  numer_grupy kalibracja szerokosc  ksiazki  portale  fastfood  \\\n",
       "0   1            1      niska     waska        5        4         1   \n",
       "1   2            1      niska     waska        1        5         1   \n",
       "2   3            1      niska     waska        1        5         5   \n",
       "3   4            1      niska     waska        5        4         2   \n",
       "4   5            1      niska     waska        5        2         1   \n",
       "\n",
       "   pieniadze  sport  \n",
       "0          3      5  \n",
       "1          4      1  \n",
       "2          5      2  \n",
       "3          2      5  \n",
       "4          1      1  "
      ]
     },
     "execution_count": 3,
     "metadata": {},
     "output_type": "execute_result"
    }
   ],
   "source": [
    "d.head()"
   ]
  },
  {
   "cell_type": "markdown",
   "metadata": {},
   "source": [
    "# Analiza statystyczna\n",
    "\n",
    "To jest do wklejenia na koniec rozdziału metody, uzupełnijcie tylko nazwy zmiennych zależnych ZZ i niezależnych ZN.\n",
    "    \n",
    "> W celu zbadania wpływu ZN na ZZ wykonano dwuczynnikową analizę wariancji w schemacie 2x2. Wszystkie obliczenia wykonano w języku Python przy użyciu bibliotek _Pandas, Numpy i Statsmodels_. Wykresy przygotowano przy użyciu biblioteki _Seaborn_."
   ]
  },
  {
   "cell_type": "markdown",
   "metadata": {},
   "source": [
    "# Średnie i odchylenia"
   ]
  },
  {
   "cell_type": "code",
   "execution_count": 4,
   "metadata": {},
   "outputs": [],
   "source": [
    "gr = d.groupby(['kalibracja', 'szerokosc'])"
   ]
  },
  {
   "cell_type": "markdown",
   "metadata": {},
   "source": [
    "#### Średnie w grupach:"
   ]
  },
  {
   "cell_type": "markdown",
   "metadata": {},
   "source": [
    "Książki:"
   ]
  },
  {
   "cell_type": "code",
   "execution_count": 5,
   "metadata": {},
   "outputs": [
    {
     "data": {
      "text/plain": [
       "kalibracja  szerokosc\n",
       "niska       szeroka      3.68\n",
       "            waska        3.80\n",
       "wysoka      szeroka      2.24\n",
       "            waska        2.96\n",
       "Name: ksiazki, dtype: float64"
      ]
     },
     "execution_count": 5,
     "metadata": {},
     "output_type": "execute_result"
    }
   ],
   "source": [
    "round(gr.ksiazki.mean(), 2)"
   ]
  },
  {
   "cell_type": "markdown",
   "metadata": {},
   "source": [
    "Portale:"
   ]
  },
  {
   "cell_type": "code",
   "execution_count": 6,
   "metadata": {},
   "outputs": [
    {
     "data": {
      "text/plain": [
       "kalibracja  szerokosc\n",
       "niska       szeroka      1.92\n",
       "            waska        2.80\n",
       "wysoka      szeroka      1.32\n",
       "            waska        1.80\n",
       "Name: portale, dtype: float64"
      ]
     },
     "execution_count": 6,
     "metadata": {},
     "output_type": "execute_result"
    }
   ],
   "source": [
    "round(gr.portale.mean(), 2)"
   ]
  },
  {
   "cell_type": "markdown",
   "metadata": {},
   "source": [
    "Fast-food:"
   ]
  },
  {
   "cell_type": "code",
   "execution_count": 7,
   "metadata": {},
   "outputs": [
    {
     "data": {
      "text/plain": [
       "kalibracja  szerokosc\n",
       "niska       szeroka      2.00\n",
       "            waska        2.04\n",
       "wysoka      szeroka      1.48\n",
       "            waska        1.44\n",
       "Name: fastfood, dtype: float64"
      ]
     },
     "execution_count": 7,
     "metadata": {},
     "output_type": "execute_result"
    }
   ],
   "source": [
    "round(gr.fastfood.mean(), 2)"
   ]
  },
  {
   "cell_type": "markdown",
   "metadata": {},
   "source": [
    "Pieniądze:"
   ]
  },
  {
   "cell_type": "code",
   "execution_count": 8,
   "metadata": {},
   "outputs": [
    {
     "data": {
      "text/plain": [
       "kalibracja  szerokosc\n",
       "niska       szeroka      3.00\n",
       "            waska        3.28\n",
       "wysoka      szeroka      1.36\n",
       "            waska        2.36\n",
       "Name: pieniadze, dtype: float64"
      ]
     },
     "execution_count": 8,
     "metadata": {},
     "output_type": "execute_result"
    }
   ],
   "source": [
    "round(gr.pieniadze.mean(), 2)"
   ]
  },
  {
   "cell_type": "markdown",
   "metadata": {},
   "source": [
    "Sport:"
   ]
  },
  {
   "cell_type": "code",
   "execution_count": 9,
   "metadata": {},
   "outputs": [
    {
     "data": {
      "text/plain": [
       "kalibracja  szerokosc\n",
       "niska       szeroka      2.04\n",
       "            waska        2.68\n",
       "wysoka      szeroka      1.20\n",
       "            waska        1.48\n",
       "Name: sport, dtype: float64"
      ]
     },
     "execution_count": 9,
     "metadata": {},
     "output_type": "execute_result"
    }
   ],
   "source": [
    "round(gr.sport.mean(), 2)"
   ]
  },
  {
   "cell_type": "markdown",
   "metadata": {},
   "source": [
    "#### Odchylenia standardowe:"
   ]
  },
  {
   "cell_type": "markdown",
   "metadata": {},
   "source": [
    "Książki:"
   ]
  },
  {
   "cell_type": "code",
   "execution_count": 10,
   "metadata": {},
   "outputs": [
    {
     "data": {
      "text/plain": [
       "kalibracja  szerokosc\n",
       "niska       szeroka      1.44\n",
       "            waska        1.80\n",
       "wysoka      szeroka      1.64\n",
       "            waska        1.72\n",
       "Name: ksiazki, dtype: float64"
      ]
     },
     "execution_count": 10,
     "metadata": {},
     "output_type": "execute_result"
    }
   ],
   "source": [
    "round(gr.ksiazki.std(), 2)"
   ]
  },
  {
   "cell_type": "markdown",
   "metadata": {},
   "source": [
    "Portale:"
   ]
  },
  {
   "cell_type": "code",
   "execution_count": 11,
   "metadata": {},
   "outputs": [
    {
     "data": {
      "text/plain": [
       "kalibracja  szerokosc\n",
       "niska       szeroka      1.08\n",
       "            waska        1.44\n",
       "wysoka      szeroka      0.48\n",
       "            waska        1.12\n",
       "Name: portale, dtype: float64"
      ]
     },
     "execution_count": 11,
     "metadata": {},
     "output_type": "execute_result"
    }
   ],
   "source": [
    "round(gr.portale.std(), 2)"
   ]
  },
  {
   "cell_type": "markdown",
   "metadata": {},
   "source": [
    "Fast-food:"
   ]
  },
  {
   "cell_type": "code",
   "execution_count": 12,
   "metadata": {},
   "outputs": [
    {
     "data": {
      "text/plain": [
       "kalibracja  szerokosc\n",
       "niska       szeroka      1.15\n",
       "            waska        1.43\n",
       "wysoka      szeroka      1.00\n",
       "            waska        1.04\n",
       "Name: fastfood, dtype: float64"
      ]
     },
     "execution_count": 12,
     "metadata": {},
     "output_type": "execute_result"
    }
   ],
   "source": [
    "round(gr.fastfood.std(), 2)"
   ]
  },
  {
   "cell_type": "markdown",
   "metadata": {},
   "source": [
    "Pieniądze:"
   ]
  },
  {
   "cell_type": "code",
   "execution_count": 13,
   "metadata": {},
   "outputs": [
    {
     "data": {
      "text/plain": [
       "kalibracja  szerokosc\n",
       "niska       szeroka      1.26\n",
       "            waska        1.37\n",
       "wysoka      szeroka      0.57\n",
       "            waska        1.66\n",
       "Name: pieniadze, dtype: float64"
      ]
     },
     "execution_count": 13,
     "metadata": {},
     "output_type": "execute_result"
    }
   ],
   "source": [
    "round(gr.pieniadze.std(), 2)"
   ]
  },
  {
   "cell_type": "markdown",
   "metadata": {},
   "source": [
    "Sport:"
   ]
  },
  {
   "cell_type": "code",
   "execution_count": 14,
   "metadata": {},
   "outputs": [
    {
     "data": {
      "text/plain": [
       "kalibracja  szerokosc\n",
       "niska       szeroka      1.31\n",
       "            waska        1.46\n",
       "wysoka      szeroka      0.41\n",
       "            waska        0.65\n",
       "Name: sport, dtype: float64"
      ]
     },
     "execution_count": 14,
     "metadata": {},
     "output_type": "execute_result"
    }
   ],
   "source": [
    "round(gr.sport.std(), 2)"
   ]
  },
  {
   "cell_type": "code",
   "execution_count": null,
   "metadata": {},
   "outputs": [],
   "source": []
  },
  {
   "cell_type": "markdown",
   "metadata": {},
   "source": [
    "# Wykresy\n",
    "\n",
    "Poniżej wykresy gotowe do wklejenia do artykułu. Pliki png w wysokiej rozdzielczości w załączniku."
   ]
  },
  {
   "cell_type": "markdown",
   "metadata": {},
   "source": [
    "### Książki"
   ]
  },
  {
   "cell_type": "code",
   "execution_count": 15,
   "metadata": {},
   "outputs": [
    {
     "data": {
      "image/png": "[encoded data removed]",
      "text/plain": [
       "<Figure size 434.5x360 with 1 Axes>"
      ]
     },
     "metadata": {
      "needs_background": "light"
     },
     "output_type": "display_data"
    }
   ],
   "source": [
    "sns.catplot(x='kalibracja', y='ksiazki',hue='szerokosc', data=d,\n",
    "            kind='point', capsize=.2, palette='viridis')\n",
    "plt.savefig('ksiazki.png', dpi=150)"
   ]
  },
  {
   "cell_type": "markdown",
   "metadata": {},
   "source": [
    "### Portale"
   ]
  },
  {
   "cell_type": "code",
   "execution_count": 16,
   "metadata": {},
   "outputs": [
    {
     "data": {
      "image/png": "[encoded data removed]",
      "text/plain": [
       "<Figure size 434.5x360 with 1 Axes>"
      ]
     },
     "metadata": {
      "needs_background": "light"
     },
     "output_type": "display_data"
    }
   ],
   "source": [
    "sns.catplot(x='kalibracja', y='portale',hue='szerokosc', data=d,\n",
    "            kind='point', capsize=.2, palette='viridis')\n",
    "plt.savefig('portale.png', dpi=150)"
   ]
  },
  {
   "cell_type": "markdown",
   "metadata": {},
   "source": [
    "### Fast-food"
   ]
  },
  {
   "cell_type": "code",
   "execution_count": 17,
   "metadata": {},
   "outputs": [
    {
     "data": {
      "image/png": "[encoded data removed]",
      "text/plain": [
       "<Figure size 434.5x360 with 1 Axes>"
      ]
     },
     "metadata": {
      "needs_background": "light"
     },
     "output_type": "display_data"
    }
   ],
   "source": [
    "sns.catplot(x='kalibracja', y='fastfood',hue='szerokosc', data=d,\n",
    "            kind='point', capsize=.2, palette='viridis')\n",
    "plt.savefig('fastfood.png', dpi=150)"
   ]
  },
  {
   "cell_type": "markdown",
   "metadata": {},
   "source": [
    "### Pieniądze"
   ]
  },
  {
   "cell_type": "code",
   "execution_count": 18,
   "metadata": {},
   "outputs": [
    {
     "data": {
      "image/png": "[encoded data removed]",
      "text/plain": [
       "<Figure size 434.5x360 with 1 Axes>"
      ]
     },
     "metadata": {
      "needs_background": "light"
     },
     "output_type": "display_data"
    }
   ],
   "source": [
    "sns.catplot(x='kalibracja', y='pieniadze',hue='szerokosc', data=d,\n",
    "            kind='point', capsize=.2, palette='viridis')\n",
    "plt.savefig('pieniadze.png', dpi=150)"
   ]
  },
  {
   "cell_type": "markdown",
   "metadata": {},
   "source": [
    "### Sport"
   ]
  },
  {
   "cell_type": "code",
   "execution_count": 19,
   "metadata": {},
   "outputs": [
    {
     "data": {
      "image/png": "[encoded data removed]",
      "text/plain": [
       "<Figure size 434.5x360 with 1 Axes>"
      ]
     },
     "metadata": {
      "needs_background": "light"
     },
     "output_type": "display_data"
    }
   ],
   "source": [
    "sns.catplot(x='kalibracja', y='sport',hue='szerokosc', data=d,\n",
    "            kind='point', capsize=.2, palette='viridis')\n",
    "plt.savefig('sport.png', dpi=150)"
   ]
  },
  {
   "cell_type": "markdown",
   "metadata": {},
   "source": [
    "# ANOVA 2x2"
   ]
  },
  {
   "cell_type": "markdown",
   "metadata": {},
   "source": [
    "W poniższych tabelach przedstawione są efekty głowne (kalibracja i szerokość) i efekt interakcji dla każdej z badanych zmiennych zależnych. Kolumna df mówi o stopniach swobody, F o wartości statystyki F a PR(>F) to wasz poziom istotności p. Jeśli p jest mniejsze niż 0.05, mówimy że dany efekt jest _istotny statystycznie_.\n",
    "\n",
    "W rozdziale wynikowym opiszcie wszystkie średnie (patrz wyżej), pokażcie wszystkie wykresy, a w tekście dla każdego efektu dopiszcie opis, wg poniższego schematu:\n",
    "\n",
    "> Efekt główny/interakcji ZN na ZZ okazał się istotny/nieistotny statystycznie; F(_df_, _dfR_) = _F_, p < PR(>F).\n",
    "\n",
    "Gdzie _df_ bierzecie z kolumny `df` a _dfR_ to `df` dla `Residual`. Czyli przykładowo dla książek:\n",
    "\n",
    "> Efekt główny kalibracji dla oceny książek okazał się istotny statystycznie; F(1, 96) = 11,862, p < 0,001. Efekt główny szerokości dla oceny książek okazał się nieistotny statystycznie; F(1, 96) = 1,610, p > 0,05. Efekt interakcji kalibracji i szerokości okazał się nieistotny statystycznie; F(1, 96) = 0,821, p > 0,05."
   ]
  },
  {
   "cell_type": "markdown",
   "metadata": {},
   "source": [
    "### Książki"
   ]
  },
  {
   "cell_type": "code",
   "execution_count": 26,
   "metadata": {},
   "outputs": [
    {
     "data": {
      "text/html": [
       "<div>\n",
       "<style scoped>\n",
       "    .dataframe tbody tr th:only-of-type {\n",
       "        vertical-align: middle;\n",
       "    }\n",
       "\n",
       "    .dataframe tbody tr th {\n",
       "        vertical-align: top;\n",
       "    }\n",
       "\n",
       "    .dataframe thead th {\n",
       "        text-align: right;\n",
       "    }\n",
       "</style>\n",
       "<table border=\"1\" class=\"dataframe\">\n",
       "  <thead>\n",
       "    <tr style=\"text-align: right;\">\n",
       "      <th></th>\n",
       "      <th>sum_sq</th>\n",
       "      <th>df</th>\n",
       "      <th>F</th>\n",
       "      <th>PR(&gt;F)</th>\n",
       "    </tr>\n",
       "  </thead>\n",
       "  <tbody>\n",
       "    <tr>\n",
       "      <th>kalibracja</th>\n",
       "      <td>32.49</td>\n",
       "      <td>1.0</td>\n",
       "      <td>11.861272</td>\n",
       "      <td>0.000851</td>\n",
       "    </tr>\n",
       "    <tr>\n",
       "      <th>szerokosc</th>\n",
       "      <td>4.41</td>\n",
       "      <td>1.0</td>\n",
       "      <td>1.609979</td>\n",
       "      <td>0.207563</td>\n",
       "    </tr>\n",
       "    <tr>\n",
       "      <th>kalibracja:szerokosc</th>\n",
       "      <td>2.25</td>\n",
       "      <td>1.0</td>\n",
       "      <td>0.821418</td>\n",
       "      <td>0.367035</td>\n",
       "    </tr>\n",
       "    <tr>\n",
       "      <th>Residual</th>\n",
       "      <td>262.96</td>\n",
       "      <td>96.0</td>\n",
       "      <td>NaN</td>\n",
       "      <td>NaN</td>\n",
       "    </tr>\n",
       "  </tbody>\n",
       "</table>\n",
       "</div>"
      ],
      "text/plain": [
       "                      sum_sq    df          F    PR(>F)\n",
       "kalibracja             32.49   1.0  11.861272  0.000851\n",
       "szerokosc               4.41   1.0   1.609979  0.207563\n",
       "kalibracja:szerokosc    2.25   1.0   0.821418  0.367035\n",
       "Residual              262.96  96.0        NaN       NaN"
      ]
     },
     "execution_count": 26,
     "metadata": {},
     "output_type": "execute_result"
    }
   ],
   "source": [
    "form = 'ksiazki ~ kalibracja + szerokosc + kalibracja:szerokosc'\n",
    "model = smf.ols(formula=form, data=d).fit()          \n",
    "anova_lm(model, typ=2)"
   ]
  },
  {
   "cell_type": "markdown",
   "metadata": {},
   "source": [
    "### Fast-food"
   ]
  },
  {
   "cell_type": "code",
   "execution_count": 28,
   "metadata": {},
   "outputs": [
    {
     "data": {
      "text/html": [
       "<div>\n",
       "<style scoped>\n",
       "    .dataframe tbody tr th:only-of-type {\n",
       "        vertical-align: middle;\n",
       "    }\n",
       "\n",
       "    .dataframe tbody tr th {\n",
       "        vertical-align: top;\n",
       "    }\n",
       "\n",
       "    .dataframe thead th {\n",
       "        text-align: right;\n",
       "    }\n",
       "</style>\n",
       "<table border=\"1\" class=\"dataframe\">\n",
       "  <thead>\n",
       "    <tr style=\"text-align: right;\">\n",
       "      <th></th>\n",
       "      <th>sum_sq</th>\n",
       "      <th>df</th>\n",
       "      <th>F</th>\n",
       "      <th>PR(&gt;F)</th>\n",
       "    </tr>\n",
       "  </thead>\n",
       "  <tbody>\n",
       "    <tr>\n",
       "      <th>kalibracja</th>\n",
       "      <td>7.840000e+00</td>\n",
       "      <td>1.0</td>\n",
       "      <td>5.729598e+00</td>\n",
       "      <td>0.018625</td>\n",
       "    </tr>\n",
       "    <tr>\n",
       "      <th>szerokosc</th>\n",
       "      <td>1.415709e-29</td>\n",
       "      <td>1.0</td>\n",
       "      <td>1.034623e-29</td>\n",
       "      <td>1.000000</td>\n",
       "    </tr>\n",
       "    <tr>\n",
       "      <th>kalibracja:szerokosc</th>\n",
       "      <td>4.000000e-02</td>\n",
       "      <td>1.0</td>\n",
       "      <td>2.923264e-02</td>\n",
       "      <td>0.864603</td>\n",
       "    </tr>\n",
       "    <tr>\n",
       "      <th>Residual</th>\n",
       "      <td>1.313600e+02</td>\n",
       "      <td>96.0</td>\n",
       "      <td>NaN</td>\n",
       "      <td>NaN</td>\n",
       "    </tr>\n",
       "  </tbody>\n",
       "</table>\n",
       "</div>"
      ],
      "text/plain": [
       "                            sum_sq    df             F    PR(>F)\n",
       "kalibracja            7.840000e+00   1.0  5.729598e+00  0.018625\n",
       "szerokosc             1.415709e-29   1.0  1.034623e-29  1.000000\n",
       "kalibracja:szerokosc  4.000000e-02   1.0  2.923264e-02  0.864603\n",
       "Residual              1.313600e+02  96.0           NaN       NaN"
      ]
     },
     "execution_count": 28,
     "metadata": {},
     "output_type": "execute_result"
    }
   ],
   "source": [
    "form = 'fastfood ~ kalibracja + szerokosc + kalibracja:szerokosc'\n",
    "model = smf.ols(formula=form, data=d).fit()          \n",
    "anova_lm(model, typ=2)"
   ]
  },
  {
   "cell_type": "markdown",
   "metadata": {},
   "source": [
    "### portale"
   ]
  },
  {
   "cell_type": "code",
   "execution_count": 30,
   "metadata": {},
   "outputs": [
    {
     "data": {
      "text/html": [
       "<div>\n",
       "<style scoped>\n",
       "    .dataframe tbody tr th:only-of-type {\n",
       "        vertical-align: middle;\n",
       "    }\n",
       "\n",
       "    .dataframe tbody tr th {\n",
       "        vertical-align: top;\n",
       "    }\n",
       "\n",
       "    .dataframe thead th {\n",
       "        text-align: right;\n",
       "    }\n",
       "</style>\n",
       "<table border=\"1\" class=\"dataframe\">\n",
       "  <thead>\n",
       "    <tr style=\"text-align: right;\">\n",
       "      <th></th>\n",
       "      <th>sum_sq</th>\n",
       "      <th>df</th>\n",
       "      <th>F</th>\n",
       "      <th>PR(&gt;F)</th>\n",
       "    </tr>\n",
       "  </thead>\n",
       "  <tbody>\n",
       "    <tr>\n",
       "      <th>kalibracja</th>\n",
       "      <td>16.00</td>\n",
       "      <td>1.0</td>\n",
       "      <td>13.559322</td>\n",
       "      <td>0.000382</td>\n",
       "    </tr>\n",
       "    <tr>\n",
       "      <th>szerokosc</th>\n",
       "      <td>11.56</td>\n",
       "      <td>1.0</td>\n",
       "      <td>9.796610</td>\n",
       "      <td>0.002316</td>\n",
       "    </tr>\n",
       "    <tr>\n",
       "      <th>kalibracja:szerokosc</th>\n",
       "      <td>1.00</td>\n",
       "      <td>1.0</td>\n",
       "      <td>0.847458</td>\n",
       "      <td>0.359580</td>\n",
       "    </tr>\n",
       "    <tr>\n",
       "      <th>Residual</th>\n",
       "      <td>113.28</td>\n",
       "      <td>96.0</td>\n",
       "      <td>NaN</td>\n",
       "      <td>NaN</td>\n",
       "    </tr>\n",
       "  </tbody>\n",
       "</table>\n",
       "</div>"
      ],
      "text/plain": [
       "                      sum_sq    df          F    PR(>F)\n",
       "kalibracja             16.00   1.0  13.559322  0.000382\n",
       "szerokosc              11.56   1.0   9.796610  0.002316\n",
       "kalibracja:szerokosc    1.00   1.0   0.847458  0.359580\n",
       "Residual              113.28  96.0        NaN       NaN"
      ]
     },
     "execution_count": 30,
     "metadata": {},
     "output_type": "execute_result"
    }
   ],
   "source": [
    "form = 'portale ~ kalibracja + szerokosc + kalibracja:szerokosc'\n",
    "model = smf.ols(formula=form, data=d).fit()          \n",
    "anova_lm(model, typ=2)"
   ]
  },
  {
   "cell_type": "markdown",
   "metadata": {},
   "source": [
    "### Pieniądze"
   ]
  },
  {
   "cell_type": "code",
   "execution_count": 31,
   "metadata": {},
   "outputs": [
    {
     "data": {
      "text/html": [
       "<div>\n",
       "<style scoped>\n",
       "    .dataframe tbody tr th:only-of-type {\n",
       "        vertical-align: middle;\n",
       "    }\n",
       "\n",
       "    .dataframe tbody tr th {\n",
       "        vertical-align: top;\n",
       "    }\n",
       "\n",
       "    .dataframe thead th {\n",
       "        text-align: right;\n",
       "    }\n",
       "</style>\n",
       "<table border=\"1\" class=\"dataframe\">\n",
       "  <thead>\n",
       "    <tr style=\"text-align: right;\">\n",
       "      <th></th>\n",
       "      <th>sum_sq</th>\n",
       "      <th>df</th>\n",
       "      <th>F</th>\n",
       "      <th>PR(&gt;F)</th>\n",
       "    </tr>\n",
       "  </thead>\n",
       "  <tbody>\n",
       "    <tr>\n",
       "      <th>kalibracja</th>\n",
       "      <td>40.96</td>\n",
       "      <td>1.0</td>\n",
       "      <td>25.115994</td>\n",
       "      <td>0.000002</td>\n",
       "    </tr>\n",
       "    <tr>\n",
       "      <th>szerokosc</th>\n",
       "      <td>10.24</td>\n",
       "      <td>1.0</td>\n",
       "      <td>6.278998</td>\n",
       "      <td>0.013900</td>\n",
       "    </tr>\n",
       "    <tr>\n",
       "      <th>kalibracja:szerokosc</th>\n",
       "      <td>3.24</td>\n",
       "      <td>1.0</td>\n",
       "      <td>1.986714</td>\n",
       "      <td>0.161916</td>\n",
       "    </tr>\n",
       "    <tr>\n",
       "      <th>Residual</th>\n",
       "      <td>156.56</td>\n",
       "      <td>96.0</td>\n",
       "      <td>NaN</td>\n",
       "      <td>NaN</td>\n",
       "    </tr>\n",
       "  </tbody>\n",
       "</table>\n",
       "</div>"
      ],
      "text/plain": [
       "                      sum_sq    df          F    PR(>F)\n",
       "kalibracja             40.96   1.0  25.115994  0.000002\n",
       "szerokosc              10.24   1.0   6.278998  0.013900\n",
       "kalibracja:szerokosc    3.24   1.0   1.986714  0.161916\n",
       "Residual              156.56  96.0        NaN       NaN"
      ]
     },
     "execution_count": 31,
     "metadata": {},
     "output_type": "execute_result"
    }
   ],
   "source": [
    "form = 'pieniadze ~ kalibracja + szerokosc + kalibracja:szerokosc'\n",
    "model = smf.ols(formula=form, data=d).fit()          \n",
    "anova_lm(model, typ=2)"
   ]
  },
  {
   "cell_type": "markdown",
   "metadata": {},
   "source": [
    "### Sport"
   ]
  },
  {
   "cell_type": "code",
   "execution_count": 32,
   "metadata": {},
   "outputs": [
    {
     "data": {
      "text/html": [
       "<div>\n",
       "<style scoped>\n",
       "    .dataframe tbody tr th:only-of-type {\n",
       "        vertical-align: middle;\n",
       "    }\n",
       "\n",
       "    .dataframe tbody tr th {\n",
       "        vertical-align: top;\n",
       "    }\n",
       "\n",
       "    .dataframe thead th {\n",
       "        text-align: right;\n",
       "    }\n",
       "</style>\n",
       "<table border=\"1\" class=\"dataframe\">\n",
       "  <thead>\n",
       "    <tr style=\"text-align: right;\">\n",
       "      <th></th>\n",
       "      <th>sum_sq</th>\n",
       "      <th>df</th>\n",
       "      <th>F</th>\n",
       "      <th>PR(&gt;F)</th>\n",
       "    </tr>\n",
       "  </thead>\n",
       "  <tbody>\n",
       "    <tr>\n",
       "      <th>kalibracja</th>\n",
       "      <td>26.01</td>\n",
       "      <td>1.0</td>\n",
       "      <td>23.414854</td>\n",
       "      <td>0.000005</td>\n",
       "    </tr>\n",
       "    <tr>\n",
       "      <th>szerokosc</th>\n",
       "      <td>5.29</td>\n",
       "      <td>1.0</td>\n",
       "      <td>4.762191</td>\n",
       "      <td>0.031531</td>\n",
       "    </tr>\n",
       "    <tr>\n",
       "      <th>kalibracja:szerokosc</th>\n",
       "      <td>0.81</td>\n",
       "      <td>1.0</td>\n",
       "      <td>0.729182</td>\n",
       "      <td>0.395274</td>\n",
       "    </tr>\n",
       "    <tr>\n",
       "      <th>Residual</th>\n",
       "      <td>106.64</td>\n",
       "      <td>96.0</td>\n",
       "      <td>NaN</td>\n",
       "      <td>NaN</td>\n",
       "    </tr>\n",
       "  </tbody>\n",
       "</table>\n",
       "</div>"
      ],
      "text/plain": [
       "                      sum_sq    df          F    PR(>F)\n",
       "kalibracja             26.01   1.0  23.414854  0.000005\n",
       "szerokosc               5.29   1.0   4.762191  0.031531\n",
       "kalibracja:szerokosc    0.81   1.0   0.729182  0.395274\n",
       "Residual              106.64  96.0        NaN       NaN"
      ]
     },
     "execution_count": 32,
     "metadata": {},
     "output_type": "execute_result"
    }
   ],
   "source": [
    "form = 'sport ~ kalibracja + szerokosc + kalibracja:szerokosc'\n",
    "model = smf.ols(formula=form, data=d).fit()          \n",
    "anova_lm(model, typ=2)"
   ]
  }
 ],
 "metadata": {
  "kernelspec": {
   "display_name": "Python 3",
   "language": "python",
   "name": "python3"
  },
  "language_info": {
   "codemirror_mode": {
    "name": "ipython",
    "version": 3
   },
   "file_extension": ".py",
   "mimetype": "text/x-python",
   "name": "python",
   "nbconvert_exporter": "python",
   "pygments_lexer": "ipython3",
   "version": "3.7.3"
  }
 },
 "nbformat": 4,
 "nbformat_minor": 2
}
